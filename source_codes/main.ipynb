{
 "cells": [
  {
   "cell_type": "markdown",
   "id": "ae9e0e01",
   "metadata": {},
   "source": [
    "<div style=\"text-align: left; background-color:#1ED760; font-family:Times New Roman; color:#191414; padding: 12px; line-height:1.25;border-radius:1px; margin-bottom: 0em; text-align: center; font-size: 40px;border-style: solid;border-color: #1DB954;\"><strong>LAB 02: TRỰC QUAN HÓA DỮ LIỆU CHUỖI THỜI GIAN</strong></div>\n",
    "<div style=\"text-align: left; background-color:#FFFFFF; font-family: Times New Roman; color:black; padding: 12px; line-height:1.25;border-radius:1px; margin-bottom: 0em; text-align: center; font-size: 18px\"><strong>| CSC10108 – TRỰC QUAN HÓA DỮ LIỆU - NHÓM 16 |<strong></div>"
   ]
  },
  {
   "cell_type": "markdown",
   "id": "dc222d72",
   "metadata": {},
   "source": [
    "<a id=\"top\"></a>\n",
    "<div class=\"list-group\" id=\"list-tab\" role=\"tablist\">\n",
    "    <h3 style=\"text-align: left; background-color: #1ED760; font-family:Times New Roman; color: white; padding: 14px; line-height: 1; border-radius:10px\"><b>Thông tin thành viên nhóm</b></h3>\n",
    "\n",
    "   *  Trần Huỳnh Hương         - 20120099\n",
    "\n",
    "   * Nguyễn Dương Tuấn Phương  - 20120166\n",
    "    \n",
    "   * Trần Hoài Thiện           - 20120195\n",
    "        \n",
    "   * Trần Thị Mỹ Trinh         - 20120224\n",
    "\n",
    "   * Nguyễn Phương Anh         - 20120247"
   ]
  },
  {
   "cell_type": "markdown",
   "id": "5ab980d0",
   "metadata": {},
   "source": [
    "<a id=\"top\"></a>\n",
    "<div class=\"list-group\" id=\"list-tab\" role=\"tablist\">\n",
    "    <h3 style=\"text-align: left; background-color: #1ED760; font-family:Times New Roman; color: white; padding: 14px; line-height: 1; border-radius:10px\"><b>Mục lục 📝</b></h3>\n",
    "    \n",
    "   * A. Thu thập dữ liệu\n",
    "        \n",
    "   * B. Khám phá dữ liệu\n",
    "\n",
    "   * C. Khám phá mối quan hệ trong dữ liệu"
   ]
  },
  {
   "cell_type": "markdown",
   "id": "8a59575c",
   "metadata": {},
   "source": [
    "<div style=\"text-align: left; background-color:#ACA224; font-family:Arial; color:white; padding: 12px; line-height:1.25;border-radius:1px; margin-bottom: 0em; text-align: center; font-size: 30px;border-style: solid;border-color: black;\">A. THU THẬP DỮ LIỆU</div>"
   ]
  },
  {
   "cell_type": "markdown",
   "id": "03bc7a93",
   "metadata": {},
   "source": [
    "<div style=\"text-align: left; background-color:#FFFFFF; font-family: Times New Roman; color:black; padding: 12px; line-height:1.25;border-radius:1px; margin-bottom: 0em; text-align: center; font-size: 20px\" > <strong>Tập dữ liệu được chọn: Data Science Salaries 2023<strong> </div> "
   ]
  },
  {
   "cell_type": "markdown",
   "id": "cb017251",
   "metadata": {},
   "source": [
    "### <span style='color:#2B9C15'>1. Ngữ cảnh, câu chuyện gì khiến nhóm sinh viên thực hiện việc tìm kiếm dữ liệu?</span>"
   ]
  },
  {
   "cell_type": "markdown",
   "id": "82b6fe3e",
   "metadata": {},
   "source": [
    "<div style=\"border-radius:10px;border:#0C6A86 solid;padding: 15px;background-color:#ebfae8;font-size:110%;text-align:left\">\n",
    "Sự thay đổi của mức lương trong ngành Khoa học Dữ liệu có thể cung cấp thông tin quan trọng về sự phát triển của ngành. Việc theo dõi mức lương theo thời gian có thể giúp nhìn thấy xu hướng tăng trưởng của ngành, giúp đưa ra quyết định về tương lai, giúp các nhà nghiên cứu và phân tích có thể hiểu rõ hơn về thị trường lao động và các xu hướng phát triển trong ngành Khoa học Dữ liệu."
   ]
  },
  {
   "cell_type": "markdown",
   "id": "7a1de00a",
   "metadata": {},
   "source": [
    "### <span style='color:#2B9C15'>2. Dữ liệu mà nhóm sinh viên là về chủ đề gì và được lấy từ nguồn nào?</span>"
   ]
  },
  {
   "cell_type": "markdown",
   "id": "ff37b7e0",
   "metadata": {},
   "source": [
    "<div style=\"border-radius:10px;border:#0C6A86 solid;padding: 15px;background-color:#ebfae8;font-size:110%;text-align:left\">\n",
    "    \n",
    "Với sự phát triển như vũ bão của công nghệ thông tin như hiện nay, các công việc thuộc về Khoa học Dữ liệu (Data Science) trở nên vô cùng hot ở thời điểm hiện tại. Và một trong những vấn đề mà rất nhiều người quan tâm khi nhắc đến Data Science chính là mức lương của nhóm ngành này. Thế nên chủ đề nhóm em sẽ làm đó chính là tìm hiểu về mức lương của các công việc thuộc về lĩnh vực Data Science. Nhóm đã thực hiện tìm kiếm tập dữ liệu trên Kaggle: <a href='https://www.kaggle.com/datasets/arnabchaki/data-science-salaries-2023?fbclid=IwAR0bBx8ZhysJHs0Q0TZI-uHRnTUJ7772x0ek0Nzkw06VeIyUf0BQ8ooniyE'> Data Science Salaries 2023 </a>.\n"
   ]
  },
  {
   "cell_type": "markdown",
   "id": "8300ee8f",
   "metadata": {},
   "source": [
    "### <span style='color:#2B9C15'>3. Người ta có cho phép sử dụng dữ liệu như thế này hay không?</span>"
   ]
  },
  {
   "cell_type": "markdown",
   "id": "8780b39e",
   "metadata": {},
   "source": [
    "<div style=\"border-radius:10px;border:#0C6A86 solid;padding: 15px;background-color:#ebfae8;font-size:110%;text-align:left\">\n",
    "    Sản phẩm: Data Science Salaries 2023 với nguồn dữ liệu được lấy từ trang web \"aijobs.net\" và được đăng tải công khai trên trang Kaggle. Và dữ liệu này có License là Open Database License (ODbL). ODbL là một thỏa thuận cấp phép nhằm cho phép người dùng tự do chia sẻ, sửa đổi và sử dụng cơ sở dữ liệu này trong khi vẫn duy trì quyền tự do này cho những người khác."
   ]
  },
  {
   "cell_type": "markdown",
   "id": "d82bf325",
   "metadata": {},
   "source": [
    "### <span style='color:#2B9C15'>4. Người ta đã thu thập dữ liệu này như thế nào? Phương pháp thực hiện là gì?</span>"
   ]
  },
  {
   "cell_type": "markdown",
   "id": "bc0aadd2",
   "metadata": {},
   "source": [
    "<div style=\"border-radius:10px;border:#0C6A86 solid;padding: 15px;background-color:#ebfae8;font-size:110%;text-align:left\">\n",
    "       Dữ liệu này được thu thập thông qua trang web aijobs.net - một trang web tìm kiếm và cung cấp việc làm cho các ngành Trí tuệ nhân tạo, Học máy, NLP, Thị giác máy tính, Kỹ thuật dữ liệu, Phân tích dữ liệu, Dữ liệu lớn và Khoa học dữ liệu nói chung. Phương pháp thực hiện là Web scraping - một quá trình sử dụng bots (các phần mềm máy tính thực hiện các tác vụ tự động) để trích xuất dữ liệu và nội dung từ các website. Những dữ liệu thu thập được sau đó được lưu thành các định dạng hữu ích như bảng tính hoặc được truy xuất bằng API để phục vụ cho mục đích của người sử dụng. Cụ thể ở tập dữ liệu này, tác giả đã sử dụng ngôn ngữ Python và thư viện hỗ trợ là BeautifulSoup để có thể thu thập dữ liệu. "
   ]
  },
  {
   "cell_type": "markdown",
   "id": "3b88333f",
   "metadata": {},
   "source": [
    "<div style=\"text-align: left; background-color:#ACA224; font-family:Arial; color:white; padding: 12px; line-height:1.25;border-radius:1px; margin-bottom: 0em; text-align: center; font-size: 30px;border-style: solid;border-color: black;\">B. KHÁM PHÁ DỮ LIỆU</div>"
   ]
  },
  {
   "cell_type": "markdown",
   "id": "825cf105",
   "metadata": {},
   "source": [
    "👉 Đầu tiên ta import các thư viện cần thiết:"
   ]
  },
  {
   "cell_type": "code",
   "execution_count": 1,
   "id": "da8395a2",
   "metadata": {},
   "outputs": [],
   "source": [
    "import numpy as np\n",
    "import pandas as pd\n",
    "import seaborn as sns\n",
    "import matplotlib.pyplot as plt\n",
    "\n",
    "import plotly.graph_objects as go\n",
    "from plotly.offline import iplot\n",
    "from plotly.subplots import make_subplots\n",
    "\n",
    "import plotly.express as px"
   ]
  },
  {
   "cell_type": "markdown",
   "id": "bf8cca98",
   "metadata": {},
   "source": [
    "👉 Tiếp theo, ta đọc file `\"ds_salaries.csv\"` vào dataframe `salaries_df` và in ra 5 dòng đầu tiên của dataframe."
   ]
  },
  {
   "cell_type": "code",
   "execution_count": 2,
   "id": "f4571815",
   "metadata": {},
   "outputs": [
    {
     "data": {
      "text/html": [
       "<div>\n",
       "<style scoped>\n",
       "    .dataframe tbody tr th:only-of-type {\n",
       "        vertical-align: middle;\n",
       "    }\n",
       "\n",
       "    .dataframe tbody tr th {\n",
       "        vertical-align: top;\n",
       "    }\n",
       "\n",
       "    .dataframe thead th {\n",
       "        text-align: right;\n",
       "    }\n",
       "</style>\n",
       "<table border=\"1\" class=\"dataframe\">\n",
       "  <thead>\n",
       "    <tr style=\"text-align: right;\">\n",
       "      <th></th>\n",
       "      <th>work_year</th>\n",
       "      <th>experience_level</th>\n",
       "      <th>employment_type</th>\n",
       "      <th>job_title</th>\n",
       "      <th>salary</th>\n",
       "      <th>salary_currency</th>\n",
       "      <th>salary_in_usd</th>\n",
       "      <th>employee_residence</th>\n",
       "      <th>remote_ratio</th>\n",
       "      <th>company_location</th>\n",
       "      <th>company_size</th>\n",
       "    </tr>\n",
       "  </thead>\n",
       "  <tbody>\n",
       "    <tr>\n",
       "      <th>0</th>\n",
       "      <td>2023</td>\n",
       "      <td>SE</td>\n",
       "      <td>FT</td>\n",
       "      <td>Principal Data Scientist</td>\n",
       "      <td>80000</td>\n",
       "      <td>EUR</td>\n",
       "      <td>85847</td>\n",
       "      <td>ES</td>\n",
       "      <td>100</td>\n",
       "      <td>ES</td>\n",
       "      <td>L</td>\n",
       "    </tr>\n",
       "    <tr>\n",
       "      <th>1</th>\n",
       "      <td>2023</td>\n",
       "      <td>MI</td>\n",
       "      <td>CT</td>\n",
       "      <td>ML Engineer</td>\n",
       "      <td>30000</td>\n",
       "      <td>USD</td>\n",
       "      <td>30000</td>\n",
       "      <td>US</td>\n",
       "      <td>100</td>\n",
       "      <td>US</td>\n",
       "      <td>S</td>\n",
       "    </tr>\n",
       "    <tr>\n",
       "      <th>2</th>\n",
       "      <td>2023</td>\n",
       "      <td>MI</td>\n",
       "      <td>CT</td>\n",
       "      <td>ML Engineer</td>\n",
       "      <td>25500</td>\n",
       "      <td>USD</td>\n",
       "      <td>25500</td>\n",
       "      <td>US</td>\n",
       "      <td>100</td>\n",
       "      <td>US</td>\n",
       "      <td>S</td>\n",
       "    </tr>\n",
       "    <tr>\n",
       "      <th>3</th>\n",
       "      <td>2023</td>\n",
       "      <td>SE</td>\n",
       "      <td>FT</td>\n",
       "      <td>Data Scientist</td>\n",
       "      <td>175000</td>\n",
       "      <td>USD</td>\n",
       "      <td>175000</td>\n",
       "      <td>CA</td>\n",
       "      <td>100</td>\n",
       "      <td>CA</td>\n",
       "      <td>M</td>\n",
       "    </tr>\n",
       "    <tr>\n",
       "      <th>4</th>\n",
       "      <td>2023</td>\n",
       "      <td>SE</td>\n",
       "      <td>FT</td>\n",
       "      <td>Data Scientist</td>\n",
       "      <td>120000</td>\n",
       "      <td>USD</td>\n",
       "      <td>120000</td>\n",
       "      <td>CA</td>\n",
       "      <td>100</td>\n",
       "      <td>CA</td>\n",
       "      <td>M</td>\n",
       "    </tr>\n",
       "  </tbody>\n",
       "</table>\n",
       "</div>"
      ],
      "text/plain": [
       "   work_year experience_level employment_type                 job_title  \\\n",
       "0       2023               SE              FT  Principal Data Scientist   \n",
       "1       2023               MI              CT               ML Engineer   \n",
       "2       2023               MI              CT               ML Engineer   \n",
       "3       2023               SE              FT            Data Scientist   \n",
       "4       2023               SE              FT            Data Scientist   \n",
       "\n",
       "   salary salary_currency  salary_in_usd employee_residence  remote_ratio  \\\n",
       "0   80000             EUR          85847                 ES           100   \n",
       "1   30000             USD          30000                 US           100   \n",
       "2   25500             USD          25500                 US           100   \n",
       "3  175000             USD         175000                 CA           100   \n",
       "4  120000             USD         120000                 CA           100   \n",
       "\n",
       "  company_location company_size  \n",
       "0               ES            L  \n",
       "1               US            S  \n",
       "2               US            S  \n",
       "3               CA            M  \n",
       "4               CA            M  "
      ]
     },
     "execution_count": 2,
     "metadata": {},
     "output_type": "execute_result"
    }
   ],
   "source": [
    "salaries_df = pd.read_csv('../datasets/ds_salaries.csv')\n",
    "salaries_df.head()"
   ]
  },
  {
   "cell_type": "markdown",
   "id": "0ce67489",
   "metadata": {},
   "source": [
    "👉 Tính số dòng và số cột:"
   ]
  },
  {
   "cell_type": "code",
   "execution_count": 3,
   "id": "d955e589",
   "metadata": {},
   "outputs": [
    {
     "name": "stdout",
     "output_type": "stream",
     "text": [
      "Number of rows:  3755\n",
      "Number of columns:  11\n"
     ]
    }
   ],
   "source": [
    "shape = salaries_df.shape\n",
    "print('Number of rows: ', shape[0])\n",
    "print('Number of columns: ', shape[1])"
   ]
  },
  {
   "cell_type": "markdown",
   "id": "177be2e7",
   "metadata": {},
   "source": [
    "### <span style='color:#2B9C15'>1. Mỗi dòng có ý nghĩa gì? Có vấn đề các dòng có ý nghĩa khác nhau không?</span>"
   ]
  },
  {
   "cell_type": "markdown",
   "id": "e31d6ae3",
   "metadata": {},
   "source": [
    "- Mỗi dòng trong bộ dữ liệu đại diện cho một việc làm thuộc về nhóm ngành Data science và những thông tin liên quan đến công việc đó thông qua từng cột dữ liệu. Ý nghĩa về các cột dữ liệu sẽ được giải thích rõ hơn ở phần 2.\n",
    "- Tất cả các dòng đều có ý nghĩa giống nhau."
   ]
  },
  {
   "cell_type": "markdown",
   "id": "b439d0f7",
   "metadata": {},
   "source": [
    "### <span style='color:#2B9C15'>2. Mỗi cột có ý nghĩa gì?</span>"
   ]
  },
  {
   "cell_type": "markdown",
   "id": "f9384629",
   "metadata": {},
   "source": []
  },
  {
   "cell_type": "markdown",
   "id": "3a71c6e6",
   "metadata": {},
   "source": [
    "### <span style='color:#2B9C15'>3. Mỗi cột hiện đang có kiểu dữ liệu gì? Có cột nào có kiểu dữ liệu chưa phù hợp để có thể xử lý tiếp hay không?</span>"
   ]
  },
  {
   "cell_type": "markdown",
   "id": "a87a4fe1",
   "metadata": {},
   "source": []
  },
  {
   "cell_type": "markdown",
   "id": "9d150be0",
   "metadata": {},
   "source": [
    "### <span style='color:#2B9C15'>4. Với mỗi cột, các giá trị (dạng số, dạng phân loại) được phân bố như thế nào?</span>"
   ]
  },
  {
   "cell_type": "markdown",
   "id": "d88b1177",
   "metadata": {},
   "source": []
  },
  {
   "cell_type": "markdown",
   "id": "a40124b8",
   "metadata": {},
   "source": [
    "### <span style='color:#2B9C15'>5. Có cần phải tiền xử lý dữ liệu hay không và nếu có thì nhóm sinh viên cần phải xử lý như thế nào?</span>"
   ]
  },
  {
   "cell_type": "markdown",
   "id": "e1840bbc",
   "metadata": {},
   "source": []
  },
  {
   "cell_type": "markdown",
   "id": "c0f88c1b",
   "metadata": {},
   "source": [
    "<div style=\"text-align: left; background-color:#ACA224; font-family:Arial; color:white; padding: 12px; line-height:1.25;border-radius:1px; margin-bottom: 0em; text-align: center; font-size: 30px;border-style: solid;border-color: black;\">C. KHÁM PHÁ MỐI QUAN HỆ TRONG DỮ LIỆU</div>"
   ]
  },
  {
   "cell_type": "markdown",
   "id": "c7d8eeb7",
   "metadata": {},
   "source": []
  }
 ],
 "metadata": {
  "kernelspec": {
   "display_name": "Python 3 (ipykernel)",
   "language": "python",
   "name": "python3"
  },
  "language_info": {
   "codemirror_mode": {
    "name": "ipython",
    "version": 3
   },
   "file_extension": ".py",
   "mimetype": "text/x-python",
   "name": "python",
   "nbconvert_exporter": "python",
   "pygments_lexer": "ipython3",
   "version": "3.10.9"
  },
  "vscode": {
   "interpreter": {
    "hash": "76d7c06053c3456e5600312cec90888656fc0ed30c03d8425b9dac6e4fc8e014"
   }
  }
 },
 "nbformat": 4,
 "nbformat_minor": 5
}
