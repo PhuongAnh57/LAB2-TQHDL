{
 "cells": [
  {
   "attachments": {},
   "cell_type": "markdown",
   "id": "ae9e0e01",
   "metadata": {},
   "source": [
    "<div style=\"text-align: left; background-color:#1ED760; font-family:Times New Roman; color:#191414; padding: 12px; line-height:1.25;border-radius:1px; margin-bottom: 0em; text-align: center; font-size: 40px;border-style: solid;border-color: #1DB954;\"><strong>LAB 02: TRỰC QUAN HÓA DỮ LIỆU CHUỖI THỜI GIAN</strong></div>\n",
    "<div style=\"text-align: left; background-color:#FFFFFF; font-family: Times New Roman; color:black; padding: 12px; line-height:1.25;border-radius:1px; margin-bottom: 0em; text-align: center; font-size: 18px\"><strong>| CSC10108 – TRỰC QUAN HÓA DỮ LIỆU - NHÓM 16 |<strong></div>"
   ]
  },
  {
   "attachments": {},
   "cell_type": "markdown",
   "id": "dc222d72",
   "metadata": {},
   "source": [
    "<a id=\"top\"></a>\n",
    "<div class=\"list-group\" id=\"list-tab\" role=\"tablist\">\n",
    "    <h3 style=\"text-align: left; background-color: #1ED760; font-family:Times New Roman; color: white; padding: 14px; line-height: 1; border-radius:10px\"><b>Thông tin thành viên nhóm</b></h3>\n",
    "\n",
    "   *  Trần Huỳnh Hương         - 20120099\n",
    "\n",
    "   * Nguyễn Dương Tuấn Phương  - 20120166\n",
    "    \n",
    "   * Trần Hoài Thiện           - 20120195\n",
    "        \n",
    "   * Trần Thị Mỹ Trinh         - 20120224\n",
    "\n",
    "   * Nguyễn Phương Anh         - 20120247"
   ]
  },
  {
   "attachments": {},
   "cell_type": "markdown",
   "id": "5ab980d0",
   "metadata": {},
   "source": [
    "<a id=\"top\"></a>\n",
    "<div class=\"list-group\" id=\"list-tab\" role=\"tablist\">\n",
    "    <h3 style=\"text-align: left; background-color: #1ED760; font-family:Times New Roman; color: white; padding: 14px; line-height: 1; border-radius:10px\"><b>Mục lục 📝</b></h3>\n",
    "    \n",
    "   * A. Thu thập dữ liệu\n",
    "        \n",
    "   * B. Khám phá dữ liệu\n",
    "\n",
    "   * C. Khám phá mối quan hệ trong dữ liệu"
   ]
  },
  {
   "attachments": {},
   "cell_type": "markdown",
   "id": "8a59575c",
   "metadata": {},
   "source": [
    "<div style=\"text-align: left; background-color:#ACA224; font-family:Arial; color:white; padding: 12px; line-height:1.25;border-radius:1px; margin-bottom: 0em; text-align: center; font-size: 30px;border-style: solid;border-color: black;\">A. THU THẬP DỮ LIỆU</div>"
   ]
  },
  {
   "attachments": {},
   "cell_type": "markdown",
   "id": "03bc7a93",
   "metadata": {},
   "source": [
    "<div style=\"text-align: left; background-color:#FFFFFF; font-family: Times New Roman; color:black; padding: 12px; line-height:1.25;border-radius:1px; margin-bottom: 0em; text-align: center; font-size: 20px\" > <strong>Tập dữ liệu được chọn: Data Science Salaries 2023<strong> </div> "
   ]
  },
  {
   "attachments": {},
   "cell_type": "markdown",
   "id": "cb017251",
   "metadata": {},
   "source": [
    "### <span style='color:#2B9C15'>1. Ngữ cảnh, câu chuyện gì khiến nhóm sinh viên thực hiện việc tìm kiếm dữ liệu?</span>"
   ]
  },
  {
   "attachments": {},
   "cell_type": "markdown",
   "id": "82b6fe3e",
   "metadata": {},
   "source": [
    "<div style=\"border-radius:10px;border:#0C6A86 solid;padding: 15px;background-color:#ebfae8;font-size:110%;text-align:left\">\n",
    "Sự thay đổi của mức lương trong ngành Khoa học Dữ liệu có thể cung cấp thông tin quan trọng về sự phát triển của ngành. Việc theo dõi mức lương theo thời gian có thể giúp nhìn thấy xu hướng tăng trưởng của ngành, giúp đưa ra quyết định về tương lai, giúp các nhà nghiên cứu và phân tích có thể hiểu rõ hơn về thị trường lao động và các xu hướng phát triển trong ngành Khoa học Dữ liệu."
   ]
  },
  {
   "attachments": {},
   "cell_type": "markdown",
   "id": "7a1de00a",
   "metadata": {},
   "source": [
    "### <span style='color:#2B9C15'>2. Dữ liệu mà nhóm sinh viên là về chủ đề gì và được lấy từ nguồn nào?</span>"
   ]
  },
  {
   "attachments": {},
   "cell_type": "markdown",
   "id": "ff37b7e0",
   "metadata": {},
   "source": [
    "<div style=\"border-radius:10px;border:#0C6A86 solid;padding: 15px;background-color:#ebfae8;font-size:110%;text-align:left\">\n",
    "    \n",
    "Với sự phát triển như vũ bão của công nghệ thông tin như hiện nay, các công việc thuộc về Khoa học Dữ liệu (Data Science) trở nên vô cùng hot ở thời điểm hiện tại. Và một trong những vấn đề mà rất nhiều người quan tâm khi nhắc đến Data Science chính là mức lương của nhóm ngành này. Thế nên chủ đề nhóm em sẽ làm đó chính là tìm hiểu về mức lương của các công việc thuộc về lĩnh vực Data Science. Nhóm đã thực hiện tìm kiếm tập dữ liệu trên Kaggle: <a href='https://www.kaggle.com/datasets/arnabchaki/data-science-salaries-2023?fbclid=IwAR0bBx8ZhysJHs0Q0TZI-uHRnTUJ7772x0ek0Nzkw06VeIyUf0BQ8ooniyE'> Data Science Salaries 2023 </a>.\n"
   ]
  },
  {
   "attachments": {},
   "cell_type": "markdown",
   "id": "8300ee8f",
   "metadata": {},
   "source": [
    "### <span style='color:#2B9C15'>3. Người ta có cho phép sử dụng dữ liệu như thế này hay không?</span>"
   ]
  },
  {
   "attachments": {},
   "cell_type": "markdown",
   "id": "8780b39e",
   "metadata": {},
   "source": [
    "<div style=\"border-radius:10px;border:#0C6A86 solid;padding: 15px;background-color:#ebfae8;font-size:110%;text-align:left\">\n",
    "    Sản phẩm: Data Science Salaries 2023 với nguồn dữ liệu được lấy từ trang web \"aijobs.net\" và được đăng tải công khai trên trang Kaggle. Và dữ liệu này có License là Open Database License (ODbL). ODbL là một thỏa thuận cấp phép nhằm cho phép người dùng tự do chia sẻ, sửa đổi và sử dụng cơ sở dữ liệu này trong khi vẫn duy trì quyền tự do này cho những người khác."
   ]
  },
  {
   "attachments": {},
   "cell_type": "markdown",
   "id": "d82bf325",
   "metadata": {},
   "source": [
    "### <span style='color:#2B9C15'>4. Người ta đã thu thập dữ liệu này như thế nào? Phương pháp thực hiện là gì?</span>"
   ]
  },
  {
   "attachments": {},
   "cell_type": "markdown",
   "id": "bc0aadd2",
   "metadata": {},
   "source": [
    "<div style=\"border-radius:10px;border:#0C6A86 solid;padding: 15px;background-color:#ebfae8;font-size:110%;text-align:left\">\n",
    "       Dữ liệu này được thu thập thông qua trang web aijobs.net - một trang web tìm kiếm và cung cấp việc làm cho các ngành Trí tuệ nhân tạo, Học máy, NLP, Thị giác máy tính, Kỹ thuật dữ liệu, Phân tích dữ liệu, Dữ liệu lớn và Khoa học dữ liệu nói chung. Phương pháp thực hiện là Web scraping - một quá trình sử dụng bots (các phần mềm máy tính thực hiện các tác vụ tự động) để trích xuất dữ liệu và nội dung từ các website. Những dữ liệu thu thập được sau đó được lưu thành các định dạng hữu ích như bảng tính hoặc được truy xuất bằng API để phục vụ cho mục đích của người sử dụng. Cụ thể ở tập dữ liệu này, tác giả đã sử dụng ngôn ngữ Python và thư viện hỗ trợ là BeautifulSoup để có thể thu thập dữ liệu. "
   ]
  },
  {
   "attachments": {},
   "cell_type": "markdown",
   "id": "3b88333f",
   "metadata": {},
   "source": [
    "<div style=\"text-align: left; background-color:#ACA224; font-family:Arial; color:white; padding: 12px; line-height:1.25;border-radius:1px; margin-bottom: 0em; text-align: center; font-size: 30px;border-style: solid;border-color: black;\">B. KHÁM PHÁ DỮ LIỆU</div>"
   ]
  },
  {
   "attachments": {},
   "cell_type": "markdown",
   "id": "825cf105",
   "metadata": {},
   "source": [
    "👉 Đầu tiên ta import các thư viện cần thiết:"
   ]
  },
  {
   "cell_type": "code",
   "execution_count": 1,
   "id": "da8395a2",
   "metadata": {},
   "outputs": [],
   "source": [
    "import numpy as np\n",
    "import pandas as pd\n",
    "import seaborn as sns\n",
    "import matplotlib.pyplot as plt\n",
    "\n",
    "import plotly.graph_objects as go\n",
    "from plotly.offline import iplot\n",
    "from plotly.subplots import make_subplots\n",
    "\n",
    "import plotly.express as px"
   ]
  },
  {
   "attachments": {},
   "cell_type": "markdown",
   "id": "bf8cca98",
   "metadata": {},
   "source": [
    "👉 Tiếp theo, ta đọc file `\"ds_salaries.csv\"` vào dataframe `salaries_df` và in ra 5 dòng đầu tiên của dataframe."
   ]
  },
  {
   "cell_type": "code",
   "execution_count": 2,
   "id": "f4571815",
   "metadata": {},
   "outputs": [
    {
     "data": {
      "text/html": [
       "<div>\n",
       "<style scoped>\n",
       "    .dataframe tbody tr th:only-of-type {\n",
       "        vertical-align: middle;\n",
       "    }\n",
       "\n",
       "    .dataframe tbody tr th {\n",
       "        vertical-align: top;\n",
       "    }\n",
       "\n",
       "    .dataframe thead th {\n",
       "        text-align: right;\n",
       "    }\n",
       "</style>\n",
       "<table border=\"1\" class=\"dataframe\">\n",
       "  <thead>\n",
       "    <tr style=\"text-align: right;\">\n",
       "      <th></th>\n",
       "      <th>work_year</th>\n",
       "      <th>experience_level</th>\n",
       "      <th>employment_type</th>\n",
       "      <th>job_title</th>\n",
       "      <th>salary</th>\n",
       "      <th>salary_currency</th>\n",
       "      <th>salary_in_usd</th>\n",
       "      <th>employee_residence</th>\n",
       "      <th>remote_ratio</th>\n",
       "      <th>company_location</th>\n",
       "      <th>company_size</th>\n",
       "    </tr>\n",
       "  </thead>\n",
       "  <tbody>\n",
       "    <tr>\n",
       "      <th>0</th>\n",
       "      <td>2023</td>\n",
       "      <td>SE</td>\n",
       "      <td>FT</td>\n",
       "      <td>Principal Data Scientist</td>\n",
       "      <td>80000</td>\n",
       "      <td>EUR</td>\n",
       "      <td>85847</td>\n",
       "      <td>ES</td>\n",
       "      <td>100</td>\n",
       "      <td>ES</td>\n",
       "      <td>L</td>\n",
       "    </tr>\n",
       "    <tr>\n",
       "      <th>1</th>\n",
       "      <td>2023</td>\n",
       "      <td>MI</td>\n",
       "      <td>CT</td>\n",
       "      <td>ML Engineer</td>\n",
       "      <td>30000</td>\n",
       "      <td>USD</td>\n",
       "      <td>30000</td>\n",
       "      <td>US</td>\n",
       "      <td>100</td>\n",
       "      <td>US</td>\n",
       "      <td>S</td>\n",
       "    </tr>\n",
       "    <tr>\n",
       "      <th>2</th>\n",
       "      <td>2023</td>\n",
       "      <td>MI</td>\n",
       "      <td>CT</td>\n",
       "      <td>ML Engineer</td>\n",
       "      <td>25500</td>\n",
       "      <td>USD</td>\n",
       "      <td>25500</td>\n",
       "      <td>US</td>\n",
       "      <td>100</td>\n",
       "      <td>US</td>\n",
       "      <td>S</td>\n",
       "    </tr>\n",
       "    <tr>\n",
       "      <th>3</th>\n",
       "      <td>2023</td>\n",
       "      <td>SE</td>\n",
       "      <td>FT</td>\n",
       "      <td>Data Scientist</td>\n",
       "      <td>175000</td>\n",
       "      <td>USD</td>\n",
       "      <td>175000</td>\n",
       "      <td>CA</td>\n",
       "      <td>100</td>\n",
       "      <td>CA</td>\n",
       "      <td>M</td>\n",
       "    </tr>\n",
       "    <tr>\n",
       "      <th>4</th>\n",
       "      <td>2023</td>\n",
       "      <td>SE</td>\n",
       "      <td>FT</td>\n",
       "      <td>Data Scientist</td>\n",
       "      <td>120000</td>\n",
       "      <td>USD</td>\n",
       "      <td>120000</td>\n",
       "      <td>CA</td>\n",
       "      <td>100</td>\n",
       "      <td>CA</td>\n",
       "      <td>M</td>\n",
       "    </tr>\n",
       "  </tbody>\n",
       "</table>\n",
       "</div>"
      ],
      "text/plain": [
       "   work_year experience_level employment_type                 job_title  \\\n",
       "0       2023               SE              FT  Principal Data Scientist   \n",
       "1       2023               MI              CT               ML Engineer   \n",
       "2       2023               MI              CT               ML Engineer   \n",
       "3       2023               SE              FT            Data Scientist   \n",
       "4       2023               SE              FT            Data Scientist   \n",
       "\n",
       "   salary salary_currency  salary_in_usd employee_residence  remote_ratio  \\\n",
       "0   80000             EUR          85847                 ES           100   \n",
       "1   30000             USD          30000                 US           100   \n",
       "2   25500             USD          25500                 US           100   \n",
       "3  175000             USD         175000                 CA           100   \n",
       "4  120000             USD         120000                 CA           100   \n",
       "\n",
       "  company_location company_size  \n",
       "0               ES            L  \n",
       "1               US            S  \n",
       "2               US            S  \n",
       "3               CA            M  \n",
       "4               CA            M  "
      ]
     },
     "execution_count": 2,
     "metadata": {},
     "output_type": "execute_result"
    }
   ],
   "source": [
    "salaries_df = pd.read_csv('../datasets/ds_salaries.csv')\n",
    "salaries_df.head()"
   ]
  },
  {
   "attachments": {},
   "cell_type": "markdown",
   "id": "0ce67489",
   "metadata": {},
   "source": [
    "👉 Tính số dòng và số cột:"
   ]
  },
  {
   "cell_type": "code",
   "execution_count": 3,
   "id": "d955e589",
   "metadata": {},
   "outputs": [
    {
     "name": "stdout",
     "output_type": "stream",
     "text": [
      "Number of rows:  3755\n",
      "Number of columns:  11\n"
     ]
    }
   ],
   "source": [
    "shape = salaries_df.shape\n",
    "print('Number of rows: ', shape[0])\n",
    "print('Number of columns: ', shape[1])"
   ]
  },
  {
   "attachments": {},
   "cell_type": "markdown",
   "id": "177be2e7",
   "metadata": {},
   "source": [
    "### <span style='color:#2B9C15'>1. Mỗi dòng có ý nghĩa gì? Có vấn đề các dòng có ý nghĩa khác nhau không?</span>"
   ]
  },
  {
   "attachments": {},
   "cell_type": "markdown",
   "id": "e31d6ae3",
   "metadata": {},
   "source": [
    "- Mỗi dòng trong bộ dữ liệu đại diện cho một việc làm thuộc về nhóm ngành Data science và những thông tin liên quan đến công việc đó thông qua từng cột dữ liệu. Ý nghĩa về các cột dữ liệu sẽ được giải thích rõ hơn ở phần 2.\n",
    "- Tất cả các dòng đều có ý nghĩa giống nhau."
   ]
  },
  {
   "attachments": {},
   "cell_type": "markdown",
   "id": "b439d0f7",
   "metadata": {},
   "source": [
    "### <span style='color:#2B9C15'>2. Mỗi cột có ý nghĩa gì?</span>"
   ]
  },
  {
   "attachments": {},
   "cell_type": "markdown",
   "id": "f9384629",
   "metadata": {},
   "source": []
  },
  {
   "attachments": {},
   "cell_type": "markdown",
   "id": "3a71c6e6",
   "metadata": {},
   "source": [
    "### <span style='color:#2B9C15'>3. Mỗi cột hiện đang có kiểu dữ liệu gì? Có cột nào có kiểu dữ liệu chưa phù hợp để có thể xử lý tiếp hay không?</span>"
   ]
  },
  {
   "attachments": {},
   "cell_type": "markdown",
   "id": "a87a4fe1",
   "metadata": {},
   "source": [
    "👉 Ta sử dụng phương thức `dtypes` trên dataframe `salarie_df` để xem kiểu dữ liệu của mỗi cột:"
   ]
  },
  {
   "cell_type": "code",
   "execution_count": 4,
   "id": "1876ba48",
   "metadata": {},
   "outputs": [
    {
     "data": {
      "text/plain": [
       "work_year              int64\n",
       "experience_level      object\n",
       "employment_type       object\n",
       "job_title             object\n",
       "salary                 int64\n",
       "salary_currency       object\n",
       "salary_in_usd          int64\n",
       "employee_residence    object\n",
       "remote_ratio           int64\n",
       "company_location      object\n",
       "company_size          object\n",
       "dtype: object"
      ]
     },
     "execution_count": 4,
     "metadata": {},
     "output_type": "execute_result"
    }
   ],
   "source": [
    "col_dtype = salaries_df.dtypes\n",
    "col_dtype"
   ]
  },
  {
   "attachments": {},
   "cell_type": "markdown",
   "id": "3ab04831",
   "metadata": {},
   "source": [
    "💡 Nhận xét: Dựa vào kết quả trên ta thấy rằng:\n",
    "\n",
    "- Các cột `experience_level` (mức độ kinh nghiệm), `employment_type` (loại hình việc làm), `job_title` (chức vụ), `salary_currency` (loại tiền tệ), `employee_residence` (quốc gia cư trú), `company_location` (quốc gia của văn phòng đang làm việc), `company_size` (kích thước nhân viên công ty) có kiểu dữ liệu là `object`.\n",
    "- Các cột `work_year` (năm được trả lương), `salary` (lương, đơn vị USD), `salary_in_usd` (lương khi chuyển sang loại USD), `remote_ratio` (Tỷ lệ tổng thể công việc được thực hiện từ xa, đơn vị %) có kiểu dữ liệu là `int`.\n",
    "=> Nhìn chung, các trường dữ liệu đã có kiểu dữ liệu phù hợp với ý nghĩa của cột đó."
   ]
  },
  {
   "attachments": {},
   "cell_type": "markdown",
   "id": "9d150be0",
   "metadata": {},
   "source": [
    "### <span style='color:#2B9C15'>4. Với mỗi cột, các giá trị (dạng số, dạng phân loại) được phân bố như thế nào?</span>"
   ]
  },
  {
   "attachments": {},
   "cell_type": "markdown",
   "id": "d88b1177",
   "metadata": {},
   "source": [
    "👉 Số giá trị null (giá trị thiếu) trong từng cột của DataFrame `salaries_df`:"
   ]
  },
  {
   "cell_type": "code",
   "execution_count": 5,
   "id": "21230924",
   "metadata": {},
   "outputs": [
    {
     "data": {
      "text/plain": [
       "work_year             0\n",
       "experience_level      0\n",
       "employment_type       0\n",
       "job_title             0\n",
       "salary                0\n",
       "salary_currency       0\n",
       "salary_in_usd         0\n",
       "employee_residence    0\n",
       "remote_ratio          0\n",
       "company_location      0\n",
       "company_size          0\n",
       "dtype: int64"
      ]
     },
     "execution_count": 5,
     "metadata": {},
     "output_type": "execute_result"
    }
   ],
   "source": [
    "salaries_df.isna().sum()"
   ]
  },
  {
   "attachments": {},
   "cell_type": "markdown",
   "id": "dc5dd110",
   "metadata": {},
   "source": [
    "**💡 Nhận xét:** Dựa vào kết quả trên ta thấy rằng:\n",
    "- Các cột `work_year`, `salary`, `salary_in_usd`,  `remote_ratio` là dạng số và không tồn tại giá trị thiếu.\n",
    "- Các cột `experience_level`, `employment_type`, `job_title`, `salary_currency`, `employee_residence`, `company_location`, `company_size` là bảy cột dữ liệu dạng phân loại, các giá trị trong cột thường không có thứ tự hay mức độ, và được biểu diễn bằng chuỗi ký tự, không tồn tại giá trị thiếu."
   ]
  },
  {
   "attachments": {},
   "cell_type": "markdown",
   "id": "cb4aa007",
   "metadata": {},
   "source": [
    "👉 Xem xét sự phân bố giá trị của các cột dữ liệu dạng số:"
   ]
  },
  {
   "cell_type": "code",
   "execution_count": 6,
   "id": "b6fed344",
   "metadata": {},
   "outputs": [
    {
     "data": {
      "text/html": [
       "<div>\n",
       "<style scoped>\n",
       "    .dataframe tbody tr th:only-of-type {\n",
       "        vertical-align: middle;\n",
       "    }\n",
       "\n",
       "    .dataframe tbody tr th {\n",
       "        vertical-align: top;\n",
       "    }\n",
       "\n",
       "    .dataframe thead th {\n",
       "        text-align: right;\n",
       "    }\n",
       "</style>\n",
       "<table border=\"1\" class=\"dataframe\">\n",
       "  <thead>\n",
       "    <tr style=\"text-align: right;\">\n",
       "      <th></th>\n",
       "      <th>work_year</th>\n",
       "      <th>salary</th>\n",
       "      <th>salary_in_usd</th>\n",
       "      <th>remote_ratio</th>\n",
       "    </tr>\n",
       "  </thead>\n",
       "  <tbody>\n",
       "    <tr>\n",
       "      <th>count</th>\n",
       "      <td>3755.000000</td>\n",
       "      <td>3.755000e+03</td>\n",
       "      <td>3755.000000</td>\n",
       "      <td>3755.000000</td>\n",
       "    </tr>\n",
       "    <tr>\n",
       "      <th>mean</th>\n",
       "      <td>2022.373635</td>\n",
       "      <td>1.906956e+05</td>\n",
       "      <td>137570.389880</td>\n",
       "      <td>46.271638</td>\n",
       "    </tr>\n",
       "    <tr>\n",
       "      <th>std</th>\n",
       "      <td>0.691448</td>\n",
       "      <td>6.716765e+05</td>\n",
       "      <td>63055.625278</td>\n",
       "      <td>48.589050</td>\n",
       "    </tr>\n",
       "    <tr>\n",
       "      <th>min</th>\n",
       "      <td>2020.000000</td>\n",
       "      <td>6.000000e+03</td>\n",
       "      <td>5132.000000</td>\n",
       "      <td>0.000000</td>\n",
       "    </tr>\n",
       "    <tr>\n",
       "      <th>25%</th>\n",
       "      <td>2022.000000</td>\n",
       "      <td>1.000000e+05</td>\n",
       "      <td>95000.000000</td>\n",
       "      <td>0.000000</td>\n",
       "    </tr>\n",
       "    <tr>\n",
       "      <th>50%</th>\n",
       "      <td>2022.000000</td>\n",
       "      <td>1.380000e+05</td>\n",
       "      <td>135000.000000</td>\n",
       "      <td>0.000000</td>\n",
       "    </tr>\n",
       "    <tr>\n",
       "      <th>75%</th>\n",
       "      <td>2023.000000</td>\n",
       "      <td>1.800000e+05</td>\n",
       "      <td>175000.000000</td>\n",
       "      <td>100.000000</td>\n",
       "    </tr>\n",
       "    <tr>\n",
       "      <th>max</th>\n",
       "      <td>2023.000000</td>\n",
       "      <td>3.040000e+07</td>\n",
       "      <td>450000.000000</td>\n",
       "      <td>100.000000</td>\n",
       "    </tr>\n",
       "  </tbody>\n",
       "</table>\n",
       "</div>"
      ],
      "text/plain": [
       "         work_year        salary  salary_in_usd  remote_ratio\n",
       "count  3755.000000  3.755000e+03    3755.000000   3755.000000\n",
       "mean   2022.373635  1.906956e+05  137570.389880     46.271638\n",
       "std       0.691448  6.716765e+05   63055.625278     48.589050\n",
       "min    2020.000000  6.000000e+03    5132.000000      0.000000\n",
       "25%    2022.000000  1.000000e+05   95000.000000      0.000000\n",
       "50%    2022.000000  1.380000e+05  135000.000000      0.000000\n",
       "75%    2023.000000  1.800000e+05  175000.000000    100.000000\n",
       "max    2023.000000  3.040000e+07  450000.000000    100.000000"
      ]
     },
     "execution_count": 6,
     "metadata": {},
     "output_type": "execute_result"
    }
   ],
   "source": [
    "numeric = {\n",
    "    'work_year': salaries_df['work_year'], \n",
    "    'salary': salaries_df['salary'], \n",
    "    'salary_in_usd': salaries_df['salary_in_usd'],\n",
    "    'remote_ratio': salaries_df['remote_ratio']\n",
    "}\n",
    "\n",
    "df = pd.DataFrame(numeric)\n",
    "cols = ['work_year', 'salary', 'salary_in_usd', 'remote_ratio']\n",
    "df[cols].describe()"
   ]
  },
  {
   "cell_type": "code",
   "execution_count": 7,
   "id": "b30c75eb",
   "metadata": {},
   "outputs": [
    {
     "data": {
      "image/png": "[encoded data removed]",
      "text/plain": [
       "<Figure size 1500x1500 with 4 Axes>"
      ]
     },
     "metadata": {},
     "output_type": "display_data"
    }
   ],
   "source": [
    "# Biểu đồ thể hiện sự phân bố của các giá trị dạng số\n",
    "salaries_df.hist(bins = 50, figsize = (15,15))\n",
    "plt.show()"
   ]
  },
  {
   "attachments": {},
   "cell_type": "markdown",
   "id": "f5d01eec",
   "metadata": {},
   "source": [
    "👉 Xem xét sự phân bố giá trị của các cột dữ liệu dạng phân loại:"
   ]
  },
  {
   "cell_type": "code",
   "execution_count": 8,
   "id": "3d29d2b9",
   "metadata": {},
   "outputs": [
    {
     "data": {
      "text/html": [
       "<div>\n",
       "<style scoped>\n",
       "    .dataframe tbody tr th:only-of-type {\n",
       "        vertical-align: middle;\n",
       "    }\n",
       "\n",
       "    .dataframe tbody tr th {\n",
       "        vertical-align: top;\n",
       "    }\n",
       "\n",
       "    .dataframe thead th {\n",
       "        text-align: right;\n",
       "    }\n",
       "</style>\n",
       "<table border=\"1\" class=\"dataframe\">\n",
       "  <thead>\n",
       "    <tr style=\"text-align: right;\">\n",
       "      <th></th>\n",
       "      <th>experience_level</th>\n",
       "      <th>employment_type</th>\n",
       "      <th>job_title</th>\n",
       "      <th>salary_currency</th>\n",
       "      <th>employee_residence</th>\n",
       "      <th>company_location</th>\n",
       "      <th>company_size</th>\n",
       "    </tr>\n",
       "  </thead>\n",
       "  <tbody>\n",
       "    <tr>\n",
       "      <th>count</th>\n",
       "      <td>3755</td>\n",
       "      <td>3755</td>\n",
       "      <td>3755</td>\n",
       "      <td>3755</td>\n",
       "      <td>3755</td>\n",
       "      <td>3755</td>\n",
       "      <td>3755</td>\n",
       "    </tr>\n",
       "    <tr>\n",
       "      <th>unique</th>\n",
       "      <td>4</td>\n",
       "      <td>4</td>\n",
       "      <td>93</td>\n",
       "      <td>20</td>\n",
       "      <td>78</td>\n",
       "      <td>72</td>\n",
       "      <td>3</td>\n",
       "    </tr>\n",
       "    <tr>\n",
       "      <th>top</th>\n",
       "      <td>SE</td>\n",
       "      <td>FT</td>\n",
       "      <td>Data Engineer</td>\n",
       "      <td>USD</td>\n",
       "      <td>US</td>\n",
       "      <td>US</td>\n",
       "      <td>M</td>\n",
       "    </tr>\n",
       "    <tr>\n",
       "      <th>freq</th>\n",
       "      <td>2516</td>\n",
       "      <td>3718</td>\n",
       "      <td>1040</td>\n",
       "      <td>3224</td>\n",
       "      <td>3004</td>\n",
       "      <td>3040</td>\n",
       "      <td>3153</td>\n",
       "    </tr>\n",
       "  </tbody>\n",
       "</table>\n",
       "</div>"
      ],
      "text/plain": [
       "       experience_level employment_type      job_title salary_currency  \\\n",
       "count              3755            3755           3755            3755   \n",
       "unique                4               4             93              20   \n",
       "top                  SE              FT  Data Engineer             USD   \n",
       "freq               2516            3718           1040            3224   \n",
       "\n",
       "       employee_residence company_location company_size  \n",
       "count                3755             3755         3755  \n",
       "unique                 78               72            3  \n",
       "top                    US               US            M  \n",
       "freq                 3004             3040         3153  "
      ]
     },
     "execution_count": 8,
     "metadata": {},
     "output_type": "execute_result"
    }
   ],
   "source": [
    "category = {\n",
    "    'experience_level': salaries_df['experience_level'], \n",
    "    'employment_type': salaries_df['employment_type'],\n",
    "    'job_title': salaries_df['job_title'],\n",
    "    'salary_currency': salaries_df['salary_currency'],\n",
    "    'employee_residence': salaries_df['employee_residence'],\n",
    "    'company_location': salaries_df['company_location'],\n",
    "    'company_size': salaries_df['company_size']\n",
    "}\n",
    "\n",
    "df2 = pd.DataFrame(category)\n",
    "cols2 = ['experience_level', 'employment_type', 'job_title', 'salary_currency', 'employee_residence', 'company_location', 'company_size',]\n",
    "df2[cols2].describe()"
   ]
  },
  {
   "attachments": {},
   "cell_type": "markdown",
   "id": "4609004c",
   "metadata": {},
   "source": [
    "**💡 Nhận xét:** Dựa vào kết quả trên ta thấy rằng:\n",
    "- Có 93 công việc khác nhau cùng với các công ty có trụ sở đặt tại 72 quốc gia khác nhau cùng với nguồn nhân lực đến từ 78 quốc gia góp mặt trong dữ liệu thống kê này.\n",
    "- `Data Engineer` là công việc cần nhiều nguồn nhân công nhất.\n",
    "- `USD` là đơn vị tiền tệ tính lương phổ biến nhất.\n",
    "- `US` là quốc gia có nhiều nhân lực và công ty liên quan đến lĩnh vực Data Science nhất.\n",
    "- Các công ty về lĩnh vực Data Science có quy mô đa số là Medium và trình độ yêu cầu người làm việc chủ yếu là Senior."
   ]
  },
  {
   "attachments": {},
   "cell_type": "markdown",
   "id": "a40124b8",
   "metadata": {},
   "source": [
    "### <span style='color:#2B9C15'>5. Có cần phải tiền xử lý dữ liệu hay không và nếu có thì nhóm sinh viên cần phải xử lý như thế nào?</span>"
   ]
  },
  {
   "attachments": {},
   "cell_type": "markdown",
   "id": "c209ebb6",
   "metadata": {},
   "source": [
    "*💡 Nhận xét:* Phải thực hiện tiền xử lý bởi vì đây là một bước quan trọng trong quá trình khám phá và phân tích dữ liệu. Thực hiện tiền xử lý sẽ giúp chuẩn hoá dữ liệu để khi mô hình hoá dữ liệu sẽ không bị lỗi, tăng độ chính xác cho mô hình. Và đối với tập dữ liệu Data Science Salaries 2023 có nhiều lý do để tiền xử lý dữ liệu:\n",
    "- Kiểm tra và đánh giá tính đúng đắn của dữ liệu: Trước khi bắt đầu phân tích dữ liệu, chúng ta cần kiểm tra và xác định tính đúng đắn của dữ liệu. Trong trường hợp này, nếu tập dữ liệu chứa các bản ghi bị trùng lặp, thông tin bị thiếu hoặc sai sót, các giá trị bất thường hoặc ngoại lệ, thì đây sẽ không phải là dữ liệu đáng tin cậy để sử dụng cho mục đích phân tích.\n",
    "- Chuẩn hóa dữ liệu: Dữ liệu có thể được chuẩn hóa hoặc điều chỉnh để giải quyết các vấn đề liên quan đến đơn vị đo lường hoặc đơn vị tài sản cụ thể. Ví dụ: các đơn vị đo lường như USD và EUR có thể được chuyển đổi sang đơn vị đo lường chung như USD để dễ dàng so sánh.\n",
    "- Loại bỏ dữ liệu không cần thiết: Tập dữ liệu có thể chứa các trường dữ liệu không cần thiết hoặc không ảnh hưởng đến kết quả phân tích. Chúng ta có thể loại bỏ các trường này để giảm kích thước của tập dữ liệu.\n",
    "- Xử lý dữ liệu thiếu: Nếu tập dữ liệu bị thiếu thông tin hoặc giá trị bị thiếu, chúng ta cần xử lý để đảm bảo đầy đủ thông tin phân tích.\n",
    "- Xử lý dữ liệu ngoại lệ: Nếu tập dữ liệu chứa các giá trị ngoại lệ hoặc không phù hợp, chúng ta cần xử lý để loại bỏ các giá trị này hoặc thay thế bằng các giá trị thích hợp."
   ]
  },
  {
   "attachments": {},
   "cell_type": "markdown",
   "id": "e1840bbc",
   "metadata": {},
   "source": [
    "👉 Kiểm tra các dòng có bị trùng dữ liệu hay không?"
   ]
  },
  {
   "cell_type": "code",
   "execution_count": 9,
   "id": "4c3e3290",
   "metadata": {},
   "outputs": [
    {
     "data": {
      "text/plain": [
       "True"
      ]
     },
     "execution_count": 9,
     "metadata": {},
     "output_type": "execute_result"
    }
   ],
   "source": [
    "have_duplicates = salaries_df.duplicated().any()\n",
    "have_duplicates"
   ]
  },
  {
   "attachments": {},
   "cell_type": "markdown",
   "id": "6bdcbde5",
   "metadata": {},
   "source": [
    "**💡 Nhận xét:** tồn tại các dòng trùng dữ liệu trong dataset"
   ]
  },
  {
   "attachments": {},
   "cell_type": "markdown",
   "id": "a30d804a",
   "metadata": {},
   "source": [
    "👉 Tiền xử lý dữ liệu: thực hiện xóa các dòng trùng dữ liệu"
   ]
  },
  {
   "cell_type": "code",
   "execution_count": 10,
   "id": "edd1a56c",
   "metadata": {},
   "outputs": [
    {
     "data": {
      "text/html": [
       "<div>\n",
       "<style scoped>\n",
       "    .dataframe tbody tr th:only-of-type {\n",
       "        vertical-align: middle;\n",
       "    }\n",
       "\n",
       "    .dataframe tbody tr th {\n",
       "        vertical-align: top;\n",
       "    }\n",
       "\n",
       "    .dataframe thead th {\n",
       "        text-align: right;\n",
       "    }\n",
       "</style>\n",
       "<table border=\"1\" class=\"dataframe\">\n",
       "  <thead>\n",
       "    <tr style=\"text-align: right;\">\n",
       "      <th></th>\n",
       "      <th>index</th>\n",
       "      <th>work_year</th>\n",
       "      <th>experience_level</th>\n",
       "      <th>employment_type</th>\n",
       "      <th>job_title</th>\n",
       "      <th>salary</th>\n",
       "      <th>salary_currency</th>\n",
       "      <th>salary_in_usd</th>\n",
       "      <th>employee_residence</th>\n",
       "      <th>remote_ratio</th>\n",
       "      <th>company_location</th>\n",
       "      <th>company_size</th>\n",
       "    </tr>\n",
       "  </thead>\n",
       "  <tbody>\n",
       "    <tr>\n",
       "      <th>0</th>\n",
       "      <td>0</td>\n",
       "      <td>2023</td>\n",
       "      <td>SE</td>\n",
       "      <td>FT</td>\n",
       "      <td>Principal Data Scientist</td>\n",
       "      <td>80000</td>\n",
       "      <td>EUR</td>\n",
       "      <td>85847</td>\n",
       "      <td>ES</td>\n",
       "      <td>100</td>\n",
       "      <td>ES</td>\n",
       "      <td>L</td>\n",
       "    </tr>\n",
       "    <tr>\n",
       "      <th>1</th>\n",
       "      <td>1</td>\n",
       "      <td>2023</td>\n",
       "      <td>MI</td>\n",
       "      <td>CT</td>\n",
       "      <td>ML Engineer</td>\n",
       "      <td>30000</td>\n",
       "      <td>USD</td>\n",
       "      <td>30000</td>\n",
       "      <td>US</td>\n",
       "      <td>100</td>\n",
       "      <td>US</td>\n",
       "      <td>S</td>\n",
       "    </tr>\n",
       "    <tr>\n",
       "      <th>2</th>\n",
       "      <td>2</td>\n",
       "      <td>2023</td>\n",
       "      <td>MI</td>\n",
       "      <td>CT</td>\n",
       "      <td>ML Engineer</td>\n",
       "      <td>25500</td>\n",
       "      <td>USD</td>\n",
       "      <td>25500</td>\n",
       "      <td>US</td>\n",
       "      <td>100</td>\n",
       "      <td>US</td>\n",
       "      <td>S</td>\n",
       "    </tr>\n",
       "    <tr>\n",
       "      <th>3</th>\n",
       "      <td>3</td>\n",
       "      <td>2023</td>\n",
       "      <td>SE</td>\n",
       "      <td>FT</td>\n",
       "      <td>Data Scientist</td>\n",
       "      <td>175000</td>\n",
       "      <td>USD</td>\n",
       "      <td>175000</td>\n",
       "      <td>CA</td>\n",
       "      <td>100</td>\n",
       "      <td>CA</td>\n",
       "      <td>M</td>\n",
       "    </tr>\n",
       "    <tr>\n",
       "      <th>4</th>\n",
       "      <td>4</td>\n",
       "      <td>2023</td>\n",
       "      <td>SE</td>\n",
       "      <td>FT</td>\n",
       "      <td>Data Scientist</td>\n",
       "      <td>120000</td>\n",
       "      <td>USD</td>\n",
       "      <td>120000</td>\n",
       "      <td>CA</td>\n",
       "      <td>100</td>\n",
       "      <td>CA</td>\n",
       "      <td>M</td>\n",
       "    </tr>\n",
       "    <tr>\n",
       "      <th>...</th>\n",
       "      <td>...</td>\n",
       "      <td>...</td>\n",
       "      <td>...</td>\n",
       "      <td>...</td>\n",
       "      <td>...</td>\n",
       "      <td>...</td>\n",
       "      <td>...</td>\n",
       "      <td>...</td>\n",
       "      <td>...</td>\n",
       "      <td>...</td>\n",
       "      <td>...</td>\n",
       "      <td>...</td>\n",
       "    </tr>\n",
       "    <tr>\n",
       "      <th>2579</th>\n",
       "      <td>3750</td>\n",
       "      <td>2020</td>\n",
       "      <td>SE</td>\n",
       "      <td>FT</td>\n",
       "      <td>Data Scientist</td>\n",
       "      <td>412000</td>\n",
       "      <td>USD</td>\n",
       "      <td>412000</td>\n",
       "      <td>US</td>\n",
       "      <td>100</td>\n",
       "      <td>US</td>\n",
       "      <td>L</td>\n",
       "    </tr>\n",
       "    <tr>\n",
       "      <th>2580</th>\n",
       "      <td>3751</td>\n",
       "      <td>2021</td>\n",
       "      <td>MI</td>\n",
       "      <td>FT</td>\n",
       "      <td>Principal Data Scientist</td>\n",
       "      <td>151000</td>\n",
       "      <td>USD</td>\n",
       "      <td>151000</td>\n",
       "      <td>US</td>\n",
       "      <td>100</td>\n",
       "      <td>US</td>\n",
       "      <td>L</td>\n",
       "    </tr>\n",
       "    <tr>\n",
       "      <th>2581</th>\n",
       "      <td>3752</td>\n",
       "      <td>2020</td>\n",
       "      <td>EN</td>\n",
       "      <td>FT</td>\n",
       "      <td>Data Scientist</td>\n",
       "      <td>105000</td>\n",
       "      <td>USD</td>\n",
       "      <td>105000</td>\n",
       "      <td>US</td>\n",
       "      <td>100</td>\n",
       "      <td>US</td>\n",
       "      <td>S</td>\n",
       "    </tr>\n",
       "    <tr>\n",
       "      <th>2582</th>\n",
       "      <td>3753</td>\n",
       "      <td>2020</td>\n",
       "      <td>EN</td>\n",
       "      <td>CT</td>\n",
       "      <td>Business Data Analyst</td>\n",
       "      <td>100000</td>\n",
       "      <td>USD</td>\n",
       "      <td>100000</td>\n",
       "      <td>US</td>\n",
       "      <td>100</td>\n",
       "      <td>US</td>\n",
       "      <td>L</td>\n",
       "    </tr>\n",
       "    <tr>\n",
       "      <th>2583</th>\n",
       "      <td>3754</td>\n",
       "      <td>2021</td>\n",
       "      <td>SE</td>\n",
       "      <td>FT</td>\n",
       "      <td>Data Science Manager</td>\n",
       "      <td>7000000</td>\n",
       "      <td>INR</td>\n",
       "      <td>94665</td>\n",
       "      <td>IN</td>\n",
       "      <td>50</td>\n",
       "      <td>IN</td>\n",
       "      <td>L</td>\n",
       "    </tr>\n",
       "  </tbody>\n",
       "</table>\n",
       "<p>2584 rows × 12 columns</p>\n",
       "</div>"
      ],
      "text/plain": [
       "      index  work_year experience_level employment_type  \\\n",
       "0         0       2023               SE              FT   \n",
       "1         1       2023               MI              CT   \n",
       "2         2       2023               MI              CT   \n",
       "3         3       2023               SE              FT   \n",
       "4         4       2023               SE              FT   \n",
       "...     ...        ...              ...             ...   \n",
       "2579   3750       2020               SE              FT   \n",
       "2580   3751       2021               MI              FT   \n",
       "2581   3752       2020               EN              FT   \n",
       "2582   3753       2020               EN              CT   \n",
       "2583   3754       2021               SE              FT   \n",
       "\n",
       "                     job_title   salary salary_currency  salary_in_usd  \\\n",
       "0     Principal Data Scientist    80000             EUR          85847   \n",
       "1                  ML Engineer    30000             USD          30000   \n",
       "2                  ML Engineer    25500             USD          25500   \n",
       "3               Data Scientist   175000             USD         175000   \n",
       "4               Data Scientist   120000             USD         120000   \n",
       "...                        ...      ...             ...            ...   \n",
       "2579            Data Scientist   412000             USD         412000   \n",
       "2580  Principal Data Scientist   151000             USD         151000   \n",
       "2581            Data Scientist   105000             USD         105000   \n",
       "2582     Business Data Analyst   100000             USD         100000   \n",
       "2583      Data Science Manager  7000000             INR          94665   \n",
       "\n",
       "     employee_residence  remote_ratio company_location company_size  \n",
       "0                    ES           100               ES            L  \n",
       "1                    US           100               US            S  \n",
       "2                    US           100               US            S  \n",
       "3                    CA           100               CA            M  \n",
       "4                    CA           100               CA            M  \n",
       "...                 ...           ...              ...          ...  \n",
       "2579                 US           100               US            L  \n",
       "2580                 US           100               US            L  \n",
       "2581                 US           100               US            S  \n",
       "2582                 US           100               US            L  \n",
       "2583                 IN            50               IN            L  \n",
       "\n",
       "[2584 rows x 12 columns]"
      ]
     },
     "execution_count": 10,
     "metadata": {},
     "output_type": "execute_result"
    }
   ],
   "source": [
    "salaries_df.drop_duplicates(inplace=True)\n",
    "salaries_df.reset_index()"
   ]
  },
  {
   "attachments": {},
   "cell_type": "markdown",
   "id": "57d08884",
   "metadata": {},
   "source": [
    "👉 Kiểm tra có ô nào bị thiếu dữ liệu hay không?"
   ]
  },
  {
   "cell_type": "code",
   "execution_count": 11,
   "id": "204ff6d4",
   "metadata": {},
   "outputs": [
    {
     "data": {
      "text/plain": [
       "work_year             0\n",
       "experience_level      0\n",
       "employment_type       0\n",
       "job_title             0\n",
       "salary                0\n",
       "salary_currency       0\n",
       "salary_in_usd         0\n",
       "employee_residence    0\n",
       "remote_ratio          0\n",
       "company_location      0\n",
       "company_size          0\n",
       "dtype: int64"
      ]
     },
     "execution_count": 11,
     "metadata": {},
     "output_type": "execute_result"
    }
   ],
   "source": [
    "salaries_df.isnull().sum()"
   ]
  },
  {
   "attachments": {},
   "cell_type": "markdown",
   "id": "46fe9e8b",
   "metadata": {},
   "source": [
    "**💡 Nhận xét:** không tồn tại dữ liệu thiếu trong dataset"
   ]
  },
  {
   "cell_type": "code",
   "execution_count": 12,
   "id": "84664dc5",
   "metadata": {},
   "outputs": [],
   "source": [
    "#Xuất file dữ liệu mới sau khi tiền xử lý\n",
    "salaries_df.to_csv('../datasets/new_dataset.csv', index=False)"
   ]
  },
  {
   "cell_type": "code",
   "execution_count": 13,
   "id": "85399fde",
   "metadata": {},
   "outputs": [
    {
     "data": {
      "text/html": [
       "<div>\n",
       "<style scoped>\n",
       "    .dataframe tbody tr th:only-of-type {\n",
       "        vertical-align: middle;\n",
       "    }\n",
       "\n",
       "    .dataframe tbody tr th {\n",
       "        vertical-align: top;\n",
       "    }\n",
       "\n",
       "    .dataframe thead th {\n",
       "        text-align: right;\n",
       "    }\n",
       "</style>\n",
       "<table border=\"1\" class=\"dataframe\">\n",
       "  <thead>\n",
       "    <tr style=\"text-align: right;\">\n",
       "      <th></th>\n",
       "      <th>work_year</th>\n",
       "      <th>experience_level</th>\n",
       "      <th>employment_type</th>\n",
       "      <th>job_title</th>\n",
       "      <th>salary</th>\n",
       "      <th>salary_currency</th>\n",
       "      <th>salary_in_usd</th>\n",
       "      <th>employee_residence</th>\n",
       "      <th>remote_ratio</th>\n",
       "      <th>company_location</th>\n",
       "      <th>company_size</th>\n",
       "    </tr>\n",
       "  </thead>\n",
       "  <tbody>\n",
       "    <tr>\n",
       "      <th>0</th>\n",
       "      <td>2023</td>\n",
       "      <td>SE</td>\n",
       "      <td>FT</td>\n",
       "      <td>Principal Data Scientist</td>\n",
       "      <td>80000</td>\n",
       "      <td>EUR</td>\n",
       "      <td>85847</td>\n",
       "      <td>ES</td>\n",
       "      <td>100</td>\n",
       "      <td>ES</td>\n",
       "      <td>L</td>\n",
       "    </tr>\n",
       "    <tr>\n",
       "      <th>1</th>\n",
       "      <td>2023</td>\n",
       "      <td>MI</td>\n",
       "      <td>CT</td>\n",
       "      <td>ML Engineer</td>\n",
       "      <td>30000</td>\n",
       "      <td>USD</td>\n",
       "      <td>30000</td>\n",
       "      <td>US</td>\n",
       "      <td>100</td>\n",
       "      <td>US</td>\n",
       "      <td>S</td>\n",
       "    </tr>\n",
       "    <tr>\n",
       "      <th>2</th>\n",
       "      <td>2023</td>\n",
       "      <td>MI</td>\n",
       "      <td>CT</td>\n",
       "      <td>ML Engineer</td>\n",
       "      <td>25500</td>\n",
       "      <td>USD</td>\n",
       "      <td>25500</td>\n",
       "      <td>US</td>\n",
       "      <td>100</td>\n",
       "      <td>US</td>\n",
       "      <td>S</td>\n",
       "    </tr>\n",
       "    <tr>\n",
       "      <th>3</th>\n",
       "      <td>2023</td>\n",
       "      <td>SE</td>\n",
       "      <td>FT</td>\n",
       "      <td>Data Scientist</td>\n",
       "      <td>175000</td>\n",
       "      <td>USD</td>\n",
       "      <td>175000</td>\n",
       "      <td>CA</td>\n",
       "      <td>100</td>\n",
       "      <td>CA</td>\n",
       "      <td>M</td>\n",
       "    </tr>\n",
       "    <tr>\n",
       "      <th>4</th>\n",
       "      <td>2023</td>\n",
       "      <td>SE</td>\n",
       "      <td>FT</td>\n",
       "      <td>Data Scientist</td>\n",
       "      <td>120000</td>\n",
       "      <td>USD</td>\n",
       "      <td>120000</td>\n",
       "      <td>CA</td>\n",
       "      <td>100</td>\n",
       "      <td>CA</td>\n",
       "      <td>M</td>\n",
       "    </tr>\n",
       "    <tr>\n",
       "      <th>...</th>\n",
       "      <td>...</td>\n",
       "      <td>...</td>\n",
       "      <td>...</td>\n",
       "      <td>...</td>\n",
       "      <td>...</td>\n",
       "      <td>...</td>\n",
       "      <td>...</td>\n",
       "      <td>...</td>\n",
       "      <td>...</td>\n",
       "      <td>...</td>\n",
       "      <td>...</td>\n",
       "    </tr>\n",
       "    <tr>\n",
       "      <th>2579</th>\n",
       "      <td>2020</td>\n",
       "      <td>SE</td>\n",
       "      <td>FT</td>\n",
       "      <td>Data Scientist</td>\n",
       "      <td>412000</td>\n",
       "      <td>USD</td>\n",
       "      <td>412000</td>\n",
       "      <td>US</td>\n",
       "      <td>100</td>\n",
       "      <td>US</td>\n",
       "      <td>L</td>\n",
       "    </tr>\n",
       "    <tr>\n",
       "      <th>2580</th>\n",
       "      <td>2021</td>\n",
       "      <td>MI</td>\n",
       "      <td>FT</td>\n",
       "      <td>Principal Data Scientist</td>\n",
       "      <td>151000</td>\n",
       "      <td>USD</td>\n",
       "      <td>151000</td>\n",
       "      <td>US</td>\n",
       "      <td>100</td>\n",
       "      <td>US</td>\n",
       "      <td>L</td>\n",
       "    </tr>\n",
       "    <tr>\n",
       "      <th>2581</th>\n",
       "      <td>2020</td>\n",
       "      <td>EN</td>\n",
       "      <td>FT</td>\n",
       "      <td>Data Scientist</td>\n",
       "      <td>105000</td>\n",
       "      <td>USD</td>\n",
       "      <td>105000</td>\n",
       "      <td>US</td>\n",
       "      <td>100</td>\n",
       "      <td>US</td>\n",
       "      <td>S</td>\n",
       "    </tr>\n",
       "    <tr>\n",
       "      <th>2582</th>\n",
       "      <td>2020</td>\n",
       "      <td>EN</td>\n",
       "      <td>CT</td>\n",
       "      <td>Business Data Analyst</td>\n",
       "      <td>100000</td>\n",
       "      <td>USD</td>\n",
       "      <td>100000</td>\n",
       "      <td>US</td>\n",
       "      <td>100</td>\n",
       "      <td>US</td>\n",
       "      <td>L</td>\n",
       "    </tr>\n",
       "    <tr>\n",
       "      <th>2583</th>\n",
       "      <td>2021</td>\n",
       "      <td>SE</td>\n",
       "      <td>FT</td>\n",
       "      <td>Data Science Manager</td>\n",
       "      <td>7000000</td>\n",
       "      <td>INR</td>\n",
       "      <td>94665</td>\n",
       "      <td>IN</td>\n",
       "      <td>50</td>\n",
       "      <td>IN</td>\n",
       "      <td>L</td>\n",
       "    </tr>\n",
       "  </tbody>\n",
       "</table>\n",
       "<p>2584 rows × 11 columns</p>\n",
       "</div>"
      ],
      "text/plain": [
       "      work_year experience_level employment_type                 job_title  \\\n",
       "0          2023               SE              FT  Principal Data Scientist   \n",
       "1          2023               MI              CT               ML Engineer   \n",
       "2          2023               MI              CT               ML Engineer   \n",
       "3          2023               SE              FT            Data Scientist   \n",
       "4          2023               SE              FT            Data Scientist   \n",
       "...         ...              ...             ...                       ...   \n",
       "2579       2020               SE              FT            Data Scientist   \n",
       "2580       2021               MI              FT  Principal Data Scientist   \n",
       "2581       2020               EN              FT            Data Scientist   \n",
       "2582       2020               EN              CT     Business Data Analyst   \n",
       "2583       2021               SE              FT      Data Science Manager   \n",
       "\n",
       "       salary salary_currency  salary_in_usd employee_residence  remote_ratio  \\\n",
       "0       80000             EUR          85847                 ES           100   \n",
       "1       30000             USD          30000                 US           100   \n",
       "2       25500             USD          25500                 US           100   \n",
       "3      175000             USD         175000                 CA           100   \n",
       "4      120000             USD         120000                 CA           100   \n",
       "...       ...             ...            ...                ...           ...   \n",
       "2579   412000             USD         412000                 US           100   \n",
       "2580   151000             USD         151000                 US           100   \n",
       "2581   105000             USD         105000                 US           100   \n",
       "2582   100000             USD         100000                 US           100   \n",
       "2583  7000000             INR          94665                 IN            50   \n",
       "\n",
       "     company_location company_size  \n",
       "0                  ES            L  \n",
       "1                  US            S  \n",
       "2                  US            S  \n",
       "3                  CA            M  \n",
       "4                  CA            M  \n",
       "...               ...          ...  \n",
       "2579               US            L  \n",
       "2580               US            L  \n",
       "2581               US            S  \n",
       "2582               US            L  \n",
       "2583               IN            L  \n",
       "\n",
       "[2584 rows x 11 columns]"
      ]
     },
     "execution_count": 13,
     "metadata": {},
     "output_type": "execute_result"
    }
   ],
   "source": [
    "#Đọc lại file dữ liệu mới \n",
    "salaries_df = pd.read_csv('../datasets/new_dataset.csv')\n",
    "salaries_df"
   ]
  },
  {
   "attachments": {},
   "cell_type": "markdown",
   "id": "c0f88c1b",
   "metadata": {},
   "source": [
    "<div style=\"text-align: left; background-color:#ACA224; font-family:Arial; color:white; padding: 12px; line-height:1.25;border-radius:1px; margin-bottom: 0em; text-align: center; font-size: 30px;border-style: solid;border-color: black;\">C. KHÁM PHÁ MỐI QUAN HỆ TRONG DỮ LIỆU</div>"
   ]
  },
  {
   "attachments": {},
   "cell_type": "markdown",
   "id": "c7d8eeb7",
   "metadata": {},
   "source": [
    "### <span style='color:#2B9C15'>1. Khám phá mối quan hệ từ trường dữ liệu work_year -  job_title</span>"
   ]
  },
  {
   "attachments": {},
   "cell_type": "markdown",
   "id": "69c78ca6",
   "metadata": {},
   "source": [
    "👉 Mối quan hệ giữa hai trường dữ liệu `work_year` và `job_title`:\n",
    "- `work_year` (năm làm việc) và `job_tile` (tên công việc) có thể liên quan đến nhau nhưng không phụ thuộc vào nhau. Có thể một nhân viên năm 2022 làm công việc này, nhưng năm 2023 đã chuyển sang công việc khác.\n",
    "- Khám phá mối quan hệ giữa hai trường cho biết ngành nào đang là xu hướng của năm, số lượng nhân sự trong công việc đó...                                                                          \n",
    "\n",
    "👉 Chọn biểu đồ Barplot để thể hiện mối quan hệ giữa `work_year` và `job_title`\n",
    "- Biểu đồ Barplot thường được sử dụng để trực quan hóa các biến phân loại (categorical variables), và trong trường hợp này, job_title là một biến phân loại. Biểu đồ Barplot cho phép chúng ta so sánh các giá trị bằng cách sử dụng độ dài của các thanh cột tương ứng với từng giá trị.\n",
    "- Giúp thể hiện số liệu một cách dễ hiểu và so sánh giữa các giá trị của job_title theo từng work_year.\n",
    "- Nhìn vào biểu đồ Barplot cũng có thể đưa ra được các phân tích về xu hướng tăng/giảm của job_title qua từng work_year."
   ]
  },
  {
   "cell_type": "code",
   "execution_count": 14,
   "id": "9140dcc6",
   "metadata": {},
   "outputs": [
    {
     "name": "stderr",
     "output_type": "stream",
     "text": [
      "C:\\Users\\phuonganh\\AppData\\Local\\Temp\\ipykernel_2636\\1163112321.py:1: UserWarning:\n",
      "\n",
      "Boolean Series key will be reindexed to match DataFrame index.\n",
      "\n",
      "C:\\Users\\phuonganh\\AppData\\Local\\Temp\\ipykernel_2636\\1163112321.py:2: UserWarning:\n",
      "\n",
      "Boolean Series key will be reindexed to match DataFrame index.\n",
      "\n",
      "C:\\Users\\phuonganh\\AppData\\Local\\Temp\\ipykernel_2636\\1163112321.py:3: UserWarning:\n",
      "\n",
      "Boolean Series key will be reindexed to match DataFrame index.\n",
      "\n",
      "C:\\Users\\phuonganh\\AppData\\Local\\Temp\\ipykernel_2636\\1163112321.py:4: UserWarning:\n",
      "\n",
      "Boolean Series key will be reindexed to match DataFrame index.\n",
      "\n"
     ]
    },
    {
     "data": {
      "image/png": "[encoded data removed]",
      "text/plain": [
       "<Figure size 1200x800 with 4 Axes>"
      ]
     },
     "metadata": {},
     "output_type": "display_data"
    }
   ],
   "source": [
    "jobs_2023 = salaries_df[df['work_year']==2023]['job_title'].value_counts().nlargest(10).reset_index()\n",
    "jobs_2022 = salaries_df[df['work_year']==2022]['job_title'].value_counts().nlargest(10).reset_index()\n",
    "jobs_2021 = salaries_df[df['work_year']==2021]['job_title'].value_counts().nlargest(10).reset_index()\n",
    "jobs_2020 = salaries_df[df['work_year']==2020]['job_title'].value_counts().nlargest(10).reset_index()\n",
    "\n",
    "fig, axs = plt.subplots(2, 2, figsize=(12, 8))\n",
    "\n",
    "# plot for 2023\n",
    "sns.barplot(ax=axs[0, 0], data=jobs_2023, y='index', x='job_title')\n",
    "axs[0, 0].set(ylabel='Job Titles', xlabel='Counts', title='Top 10 Job Titles in 2023')\n",
    "\n",
    "# plot for 2022\n",
    "sns.barplot(ax=axs[0, 1], data=jobs_2022, y='index', x='job_title')\n",
    "axs[0, 1].set(ylabel='Job Titles', xlabel='Counts', title='Top 10 Job Titles in 2022')\n",
    "\n",
    "# plot for 2021\n",
    "sns.barplot(ax=axs[1, 0], data=jobs_2021, y='index', x='job_title')\n",
    "axs[1, 0].set(ylabel='Job Titles', xlabel='Counts', title='Top 10 Job Titles in 2021')\n",
    "\n",
    "# plot for 2020\n",
    "sns.barplot(ax=axs[1, 1], data=jobs_2020, y='index', x='job_title')\n",
    "axs[1, 1].set(ylabel='Job Titles', xlabel='Counts', title='Top 10 Job Titles in 2020')\n",
    "\n",
    "fig.suptitle('Top 10 Job Titles by Year')\n",
    "plt.tight_layout()\n",
    "plt.show()"
   ]
  },
  {
   "attachments": {},
   "cell_type": "markdown",
   "id": "33f8fbe6",
   "metadata": {},
   "source": [
    "**💡 Nhận xét:** Dựa vào biểu đồ:\n",
    "- Năm 2020, chỉ có 2 công việc chính là Research Engineer và Data Scientist.\n",
    "- Năm 2021, Research Engineer đã hoàn toàn biến mất và thị trường công việc xuất hiện thêm 2 công việc mới: Data Engineer, Machine Learning Engineer và Data Specialist.\n",
    "- Năm 2022, xuất hiện thêm nhiều vị trí đa dạng hơn và số lượng lập trình viên đã tăng nhiều hơn so với trước đó. Xu hướng công việc thay đổi, Data Scientist đã trở thành công việc hot nhất năm 2022.\n",
    "- Năm 2023, số lượng lập trình viên cho các vị trí Hot trở nên đông hơn (hơn 150 người). Nhìn chung, Data Engineer và Data Scientist có xu hướng thay đổi qua từng năm."
   ]
  },
  {
   "attachments": {},
   "cell_type": "markdown",
   "id": "e5b9548c",
   "metadata": {},
   "source": [
    "### <span style='color:#2B9C15'>2. Khám phá mối quan hệ từ trường dữ liệu work_year - employment_type - salary_in_usd</span>"
   ]
  },
  {
   "attachments": {},
   "cell_type": "markdown",
   "id": "e729bf56",
   "metadata": {},
   "source": [
    "👉 Mối quan hệ giữa ba trường dữ liệu `work_year`, `employment_type` và `salary_in_usd`:\n",
    "- Khám phá mối quan hệ giữa ba trường dữ liệu cho biết loại hình làm việc nào phổ biến trong mỗi năm và so sánh lương trung bình của loại hình làm việc đó.                                                                         \n",
    "\n",
    "👉 Chọn biểu đồ Barplot để thể hiện mối quan hệ giữa `work_year`, `employment_type` và `salary_in_usd`\n",
    "- Biểu đồ Barplot thường được sử dụng để trực quan hóa các biến phân loại (categorical variables), và trong trường hợp này, employment_type là một biến phân loại. Biểu đồ Barplot cho phép chúng ta so sánh các giá trị bằng cách sử dụng độ dài của các thanh cột tương ứng với từng giá trị.\n",
    "- Giúp thể hiện số liệu một cách dễ hiểu và so sánh giữa các giá trị của salary_in_usd, số lượng nhân viên làm việc theo loại hình theo từng work_year.\n",
    "- Nhìn vào biểu đồ Barplot cũng có thể đưa ra được các phân tích về xu hướng tăng/giảm của salary_in_usd, employment_type qua từng work_year."
   ]
  },
  {
   "cell_type": "code",
   "execution_count": 21,
   "id": "e753e687",
   "metadata": {},
   "outputs": [
    {
     "data": {
      "text/plain": [
       "[Text(0, 2, '147486'),\n",
       " Text(0, 2, '27750'),\n",
       " Text(0, 2, '50000'),\n",
       " Text(0, 2, '17779')]"
      ]
     },
     "execution_count": 21,
     "metadata": {},
     "output_type": "execute_result"
    },
    {
     "data": {
      "image/png": "[encoded data removed]",
      "text/plain": [
       "<Figure size 1000x600 with 1 Axes>"
      ]
     },
     "metadata": {},
     "output_type": "display_data"
    }
   ],
   "source": [
    "avg_salaries = salaries_df.groupby('employment_type')['salary_in_usd'].mean().round(0).sort_values(ascending = False).reset_index()\n",
    "fig, ax = plt.subplots(figsize=(10, 6))\n",
    "palette = sns.color_palette(\"Reds\",n_colors=4)\n",
    "sns.barplot(ax =ax,data = salaries_df , x = 'employment_type', y = 'salary_in_usd',palette = palette,errorbar = None,hue = 'work_year')\n",
    "ax.set(xlabel='', ylabel='Dollars', title='Average Salaries in Dollars Per Year')\n",
    "ax.bar_label(ax.containers[3], padding = 2)"
   ]
  },
  {
   "attachments": {},
   "cell_type": "markdown",
   "id": "332ccd67",
   "metadata": {},
   "source": [
    "**💡 Nhận xét:** Dựa vào biểu đồ:\n",
    "- Có 4 loại hình làm việc, đó là: FT, CT, FL, PT.\n",
    "- Loại FT nhìn chung có trung bình lương đồng đều qua mỗi năm, dao động từ 100000-150000 (USD). Hai năm gần đây có sự tăng mạnh về lương đáng kể.\n",
    "- Loại CT có sự biến động lớn nhất. Năm 2021 phát triển đạt đến đỉnh cao nhưng cũng giảm kỷ lục trong những năm gần đây (từ 270000 giảm còn 27750-50000 USD).\n",
    "- Nhìn chung, năm 2022 là năm các loại hình làm việc phát triển ổn định nhất, loại FL và PT phát triển ổn định vào năm này."
   ]
  },
  {
   "attachments": {},
   "cell_type": "markdown",
   "id": "0a204b5e",
   "metadata": {},
   "source": [
    "### <span style='color:#2B9C15'>3. Khám phá mối quan hệ từ trường dữ liệu work_year - company_size </span>"
   ]
  },
  {
   "attachments": {},
   "cell_type": "markdown",
   "id": "226ae5c3",
   "metadata": {},
   "source": [
    "👉 Mối quan hệ giữa ba trường dữ liệu `work_year` và `company_size`:\n",
    "- Khám phá mối quan hệ giữa ba trường dữ liệu cho biết loại hình làm việc nào phổ biến trong mỗi năm và so sánh lương trung bình của loại hình làm việc đó.                                                                         \n",
    "\n",
    "👉 Chọn biểu đồ Barplot để thể hiện mối quan hệ giữa `work_year` và `company_size`\n",
    "- Biểu đồ Barplot thường được sử dụng để trực quan hóa các biến phân loại (categorical variables), và trong trường hợp này, company_size là một biến phân loại. Biểu đồ Barplot cho phép chúng ta so sánh các giá trị bằng cách sử dụng độ dài của các thanh cột tương ứng với từng giá trị.\n",
    "- Giúp thể hiện số liệu một cách dễ hiểu và so sánh giữa các giá trị của company_size theo từng work_year.\n",
    "- Nhìn vào biểu đồ Barplot cũng có thể đưa ra được các phân tích về xu hướng tăng/giảm của company_size qua từng work_year."
   ]
  },
  {
   "cell_type": "code",
   "execution_count": 30,
   "id": "fd8526ce",
   "metadata": {},
   "outputs": [
    {
     "data": {
      "text/html": [
       "<div>\n",
       "<style scoped>\n",
       "    .dataframe tbody tr th:only-of-type {\n",
       "        vertical-align: middle;\n",
       "    }\n",
       "\n",
       "    .dataframe tbody tr th {\n",
       "        vertical-align: top;\n",
       "    }\n",
       "\n",
       "    .dataframe thead th {\n",
       "        text-align: right;\n",
       "    }\n",
       "</style>\n",
       "<table border=\"1\" class=\"dataframe\">\n",
       "  <thead>\n",
       "    <tr style=\"text-align: right;\">\n",
       "      <th>work_year</th>\n",
       "      <th>2020</th>\n",
       "      <th>2021</th>\n",
       "      <th>2022</th>\n",
       "      <th>2023</th>\n",
       "    </tr>\n",
       "    <tr>\n",
       "      <th>company_size</th>\n",
       "      <th></th>\n",
       "      <th></th>\n",
       "      <th></th>\n",
       "      <th></th>\n",
       "    </tr>\n",
       "  </thead>\n",
       "  <tbody>\n",
       "    <tr>\n",
       "      <th>L</th>\n",
       "      <td>34</td>\n",
       "      <td>125</td>\n",
       "      <td>176</td>\n",
       "      <td>74</td>\n",
       "    </tr>\n",
       "    <tr>\n",
       "      <th>M</th>\n",
       "      <td>16</td>\n",
       "      <td>56</td>\n",
       "      <td>896</td>\n",
       "      <td>1060</td>\n",
       "    </tr>\n",
       "    <tr>\n",
       "      <th>S</th>\n",
       "      <td>25</td>\n",
       "      <td>47</td>\n",
       "      <td>53</td>\n",
       "      <td>22</td>\n",
       "    </tr>\n",
       "  </tbody>\n",
       "</table>\n",
       "</div>"
      ],
      "text/plain": [
       "work_year     2020  2021  2022  2023\n",
       "company_size                        \n",
       "L               34   125   176    74\n",
       "M               16    56   896  1060\n",
       "S               25    47    53    22"
      ]
     },
     "execution_count": 30,
     "metadata": {},
     "output_type": "execute_result"
    },
    {
     "data": {
      "image/png": "[encoded data removed]",
      "text/plain": [
       "<Figure size 640x480 with 1 Axes>"
      ]
     },
     "metadata": {},
     "output_type": "display_data"
    }
   ],
   "source": [
    "sns.countplot(x= salaries_df['company_size'], data=salaries_df, hue = 'work_year')\n",
    "salaries_df.groupby(['company_size', 'work_year']).size().unstack()"
   ]
  },
  {
   "attachments": {},
   "cell_type": "markdown",
   "id": "1188e076",
   "metadata": {},
   "source": [
    "**💡 Nhận xét:** Dựa vào biểu đồ:\n",
    "- Có 3 loại kích thước công ty: L (Large), S (Small), M (Medium).\n",
    "- Nhìn chung, các công ty nhỏ có số lượng rất ít qua mỗi năm.\n",
    "- Năm 2022 và 2023 có sự phát triển đáng kể của các công ty tầm trung."
   ]
  }
 ],
 "metadata": {
  "kernelspec": {
   "display_name": "Python 3 (ipykernel)",
   "language": "python",
   "name": "python3"
  },
  "language_info": {
   "codemirror_mode": {
    "name": "ipython",
    "version": 3
   },
   "file_extension": ".py",
   "mimetype": "text/x-python",
   "name": "python",
   "nbconvert_exporter": "python",
   "pygments_lexer": "ipython3",
   "version": "3.10.1"
  },
  "vscode": {
   "interpreter": {
    "hash": "76d7c06053c3456e5600312cec90888656fc0ed30c03d8425b9dac6e4fc8e014"
   }
  }
 },
 "nbformat": 4,
 "nbformat_minor": 5
}
