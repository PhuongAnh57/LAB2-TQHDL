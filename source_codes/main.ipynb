{
 "cells": [
  {
   "cell_type": "markdown",
   "id": "ae9e0e01",
   "metadata": {},
   "source": [
    "<div style=\"text-align: left; background-color:#1ED760; font-family:Times New Roman; color:#191414; padding: 12px; line-height:1.25;border-radius:1px; margin-bottom: 0em; text-align: center; font-size: 40px;border-style: solid;border-color: #1DB954;\"><strong>LAB 02: TRỰC QUAN HÓA DỮ LIỆU CHUỖI THỜI GIAN</strong></div>\n",
    "<div style=\"text-align: left; background-color:#FFFFFF; font-family: Times New Roman; color:black; padding: 12px; line-height:1.25;border-radius:1px; margin-bottom: 0em; text-align: center; font-size: 18px\"><strong>| CSC10108 – TRỰC QUAN HÓA DỮ LIỆU - NHÓM 16 |<strong></div>"
   ]
  },
  {
   "cell_type": "markdown",
   "id": "dc222d72",
   "metadata": {},
   "source": [
    "<a id=\"top\"></a>\n",
    "<div class=\"list-group\" id=\"list-tab\" role=\"tablist\">\n",
    "    <h3 style=\"text-align: left; background-color: #1ED760; font-family:Times New Roman; color: white; padding: 14px; line-height: 1; border-radius:10px\"><b>Thông tin thành viên nhóm</b></h3>\n",
    "\n",
    "   *  Trần Huỳnh Hương         - 20120099\n",
    "\n",
    "   * Nguyễn Dương Tuấn Phương  - 20120166\n",
    "    \n",
    "   * Trần Hoài Thiện           - 20120195\n",
    "        \n",
    "   * Trần Thị Mỹ Trinh         - 20120224\n",
    "\n",
    "   * Nguyễn Phương Anh         - 20120247"
   ]
  },
  {
   "cell_type": "markdown",
   "id": "5ab980d0",
   "metadata": {},
   "source": [
    "<a id=\"top\"></a>\n",
    "<div class=\"list-group\" id=\"list-tab\" role=\"tablist\">\n",
    "    <h3 style=\"text-align: left; background-color: #1ED760; font-family:Times New Roman; color: white; padding: 14px; line-height: 1; border-radius:10px\"><b>Mục lục 📝</b></h3>\n",
    "    \n",
    "   * A. Thu thập dữ liệu\n",
    "        \n",
    "   * B. Khám phá dữ liệu\n",
    "\n",
    "   * C. Khám phá mối quan hệ trong dữ liệu"
   ]
  },
  {
   "cell_type": "markdown",
   "id": "8a59575c",
   "metadata": {},
   "source": [
    "<div style=\"text-align: left; background-color:#ACA224; font-family:Arial; color:white; padding: 12px; line-height:1.25;border-radius:1px; margin-bottom: 0em; text-align: center; font-size: 30px;border-style: solid;border-color: black;\">A. THU THẬP DỮ LIỆU</div>"
   ]
  },
  {
   "cell_type": "markdown",
   "id": "03bc7a93",
   "metadata": {},
   "source": [
    "<div style=\"text-align: left; background-color:#FFFFFF; font-family: Times New Roman; color:black; padding: 12px; line-height:1.25;border-radius:1px; margin-bottom: 0em; text-align: center; font-size: 20px\" > <strong>Tập dữ liệu được chọn: Data Science Salaries 2023<strong> </div> "
   ]
  },
  {
   "cell_type": "markdown",
   "id": "cb017251",
   "metadata": {},
   "source": [
    "### <span style='color:#2B9C15'>1. Ngữ cảnh, câu chuyện gì khiến nhóm sinh viên thực hiện việc tìm kiếm dữ liệu?</span>"
   ]
  },
  {
   "cell_type": "markdown",
   "id": "82b6fe3e",
   "metadata": {},
   "source": [
    "<div style=\"border-radius:10px;border:#0C6A86 solid;padding: 15px;background-color:#ebfae8;font-size:110%;text-align:left\">\n",
    "Sự thay đổi của mức lương trong ngành Khoa học Dữ liệu có thể cung cấp thông tin quan trọng về sự phát triển của ngành. Việc theo dõi mức lương theo thời gian có thể giúp nhìn thấy xu hướng tăng trưởng của ngành, giúp đưa ra quyết định về tương lai, giúp các nhà nghiên cứu và phân tích có thể hiểu rõ hơn về thị trường lao động và các xu hướng phát triển trong ngành Khoa học Dữ liệu."
   ]
  },
  {
   "cell_type": "markdown",
   "id": "7a1de00a",
   "metadata": {},
   "source": [
    "### <span style='color:#2B9C15'>2. Dữ liệu mà nhóm sinh viên là về chủ đề gì và được lấy từ nguồn nào?</span>"
   ]
  },
  {
   "cell_type": "markdown",
   "id": "ff37b7e0",
   "metadata": {},
   "source": [
    "<div style=\"border-radius:10px;border:#0C6A86 solid;padding: 15px;background-color:#ebfae8;font-size:110%;text-align:left\">\n",
    "    \n",
    "Với sự phát triển như vũ bão của công nghệ thông tin như hiện nay, các công việc thuộc về Khoa học Dữ liệu (Data Science) trở nên vô cùng hot ở thời điểm hiện tại. Và một trong những vấn đề mà rất nhiều người quan tâm khi nhắc đến Data Science chính là mức lương của nhóm ngành này. Thế nên chủ đề nhóm em sẽ làm đó chính là tìm hiểu về mức lương của các công việc thuộc về lĩnh vực Data Science. Nhóm đã thực hiện tìm kiếm tập dữ liệu trên Kaggle: <a href='https://www.kaggle.com/datasets/arnabchaki/data-science-salaries-2023?fbclid=IwAR0bBx8ZhysJHs0Q0TZI-uHRnTUJ7772x0ek0Nzkw06VeIyUf0BQ8ooniyE'> Data Science Salaries 2023 </a>.\n"
   ]
  },
  {
   "cell_type": "markdown",
   "id": "8300ee8f",
   "metadata": {},
   "source": [
    "### <span style='color:#2B9C15'>3. Người ta có cho phép sử dụng dữ liệu như thế này hay không?</span>"
   ]
  },
  {
   "cell_type": "markdown",
   "id": "8780b39e",
   "metadata": {},
   "source": [
    "<div style=\"border-radius:10px;border:#0C6A86 solid;padding: 15px;background-color:#ebfae8;font-size:110%;text-align:left\">\n",
    "    Sản phẩm: Data Science Salaries 2023 với nguồn dữ liệu được lấy từ trang web \"aijobs.net\" và được đăng tải công khai trên trang Kaggle. Và dữ liệu này có License là Open Database License (ODbL). ODbL là một thỏa thuận cấp phép nhằm cho phép người dùng tự do chia sẻ, sửa đổi và sử dụng cơ sở dữ liệu này trong khi vẫn duy trì quyền tự do này cho những người khác."
   ]
  },
  {
   "cell_type": "markdown",
   "id": "d82bf325",
   "metadata": {},
   "source": [
    "### <span style='color:#2B9C15'>4. Người ta đã thu thập dữ liệu này như thế nào? Phương pháp thực hiện là gì?</span>"
   ]
  },
  {
   "cell_type": "markdown",
   "id": "bc0aadd2",
   "metadata": {},
   "source": [
    "<div style=\"border-radius:10px;border:#0C6A86 solid;padding: 15px;background-color:#ebfae8;font-size:110%;text-align:left\">\n",
    "       Dữ liệu này được thu thập thông qua trang web aijobs.net - một trang web tìm kiếm và cung cấp việc làm cho các ngành Trí tuệ nhân tạo, Học máy, NLP, Thị giác máy tính, Kỹ thuật dữ liệu, Phân tích dữ liệu, Dữ liệu lớn và Khoa học dữ liệu nói chung. Phương pháp thực hiện là Web scraping - một quá trình sử dụng bots (các phần mềm máy tính thực hiện các tác vụ tự động) để trích xuất dữ liệu và nội dung từ các website. Những dữ liệu thu thập được sau đó được lưu thành các định dạng hữu ích như bảng tính hoặc được truy xuất bằng API để phục vụ cho mục đích của người sử dụng. Cụ thể ở tập dữ liệu này, tác giả đã sử dụng ngôn ngữ Python và thư viện hỗ trợ là BeautifulSoup để có thể thu thập dữ liệu. "
   ]
  },
  {
   "cell_type": "markdown",
   "id": "3b88333f",
   "metadata": {},
   "source": [
    "<div style=\"text-align: left; background-color:#ACA224; font-family:Arial; color:white; padding: 12px; line-height:1.25;border-radius:1px; margin-bottom: 0em; text-align: center; font-size: 30px;border-style: solid;border-color: black;\">B. KHÁM PHÁ DỮ LIỆU</div>"
   ]
  },
  {
   "cell_type": "markdown",
<<<<<<< HEAD
=======
   "id": "825cf105",
   "metadata": {},
   "source": [
    "👉 Đầu tiên ta import các thư viện cần thiết:"
   ]
  },
  {
   "cell_type": "code",
   "execution_count": 1,
   "id": "da8395a2",
   "metadata": {},
   "outputs": [],
   "source": [
    "import numpy as np\n",
    "import pandas as pd\n",
    "import seaborn as sns\n",
    "import matplotlib.pyplot as plt\n",
    "\n",
    "import plotly.graph_objects as go\n",
    "from plotly.offline import iplot\n",
    "from plotly.subplots import make_subplots\n",
    "\n",
    "import plotly.express as px"
   ]
  },
  {
   "cell_type": "markdown",
   "id": "bf8cca98",
   "metadata": {},
   "source": [
    "👉 Tiếp theo, ta đọc file `\"ds_salaries.csv\"` vào dataframe `salaries_df` và in ra 5 dòng đầu tiên của dataframe."
   ]
  },
  {
   "cell_type": "code",
   "execution_count": 2,
   "id": "f4571815",
   "metadata": {},
   "outputs": [
    {
     "data": {
      "text/html": [
       "<div>\n",
       "<style scoped>\n",
       "    .dataframe tbody tr th:only-of-type {\n",
       "        vertical-align: middle;\n",
       "    }\n",
       "\n",
       "    .dataframe tbody tr th {\n",
       "        vertical-align: top;\n",
       "    }\n",
       "\n",
       "    .dataframe thead th {\n",
       "        text-align: right;\n",
       "    }\n",
       "</style>\n",
       "<table border=\"1\" class=\"dataframe\">\n",
       "  <thead>\n",
       "    <tr style=\"text-align: right;\">\n",
       "      <th></th>\n",
       "      <th>work_year</th>\n",
       "      <th>experience_level</th>\n",
       "      <th>employment_type</th>\n",
       "      <th>job_title</th>\n",
       "      <th>salary</th>\n",
       "      <th>salary_currency</th>\n",
       "      <th>salary_in_usd</th>\n",
       "      <th>employee_residence</th>\n",
       "      <th>remote_ratio</th>\n",
       "      <th>company_location</th>\n",
       "      <th>company_size</th>\n",
       "    </tr>\n",
       "  </thead>\n",
       "  <tbody>\n",
       "    <tr>\n",
       "      <th>0</th>\n",
       "      <td>2023</td>\n",
       "      <td>SE</td>\n",
       "      <td>FT</td>\n",
       "      <td>Principal Data Scientist</td>\n",
       "      <td>80000</td>\n",
       "      <td>EUR</td>\n",
       "      <td>85847</td>\n",
       "      <td>ES</td>\n",
       "      <td>100</td>\n",
       "      <td>ES</td>\n",
       "      <td>L</td>\n",
       "    </tr>\n",
       "    <tr>\n",
       "      <th>1</th>\n",
       "      <td>2023</td>\n",
       "      <td>MI</td>\n",
       "      <td>CT</td>\n",
       "      <td>ML Engineer</td>\n",
       "      <td>30000</td>\n",
       "      <td>USD</td>\n",
       "      <td>30000</td>\n",
       "      <td>US</td>\n",
       "      <td>100</td>\n",
       "      <td>US</td>\n",
       "      <td>S</td>\n",
       "    </tr>\n",
       "    <tr>\n",
       "      <th>2</th>\n",
       "      <td>2023</td>\n",
       "      <td>MI</td>\n",
       "      <td>CT</td>\n",
       "      <td>ML Engineer</td>\n",
       "      <td>25500</td>\n",
       "      <td>USD</td>\n",
       "      <td>25500</td>\n",
       "      <td>US</td>\n",
       "      <td>100</td>\n",
       "      <td>US</td>\n",
       "      <td>S</td>\n",
       "    </tr>\n",
       "    <tr>\n",
       "      <th>3</th>\n",
       "      <td>2023</td>\n",
       "      <td>SE</td>\n",
       "      <td>FT</td>\n",
       "      <td>Data Scientist</td>\n",
       "      <td>175000</td>\n",
       "      <td>USD</td>\n",
       "      <td>175000</td>\n",
       "      <td>CA</td>\n",
       "      <td>100</td>\n",
       "      <td>CA</td>\n",
       "      <td>M</td>\n",
       "    </tr>\n",
       "    <tr>\n",
       "      <th>4</th>\n",
       "      <td>2023</td>\n",
       "      <td>SE</td>\n",
       "      <td>FT</td>\n",
       "      <td>Data Scientist</td>\n",
       "      <td>120000</td>\n",
       "      <td>USD</td>\n",
       "      <td>120000</td>\n",
       "      <td>CA</td>\n",
       "      <td>100</td>\n",
       "      <td>CA</td>\n",
       "      <td>M</td>\n",
       "    </tr>\n",
       "  </tbody>\n",
       "</table>\n",
       "</div>"
      ],
      "text/plain": [
       "   work_year experience_level employment_type                 job_title  \\\n",
       "0       2023               SE              FT  Principal Data Scientist   \n",
       "1       2023               MI              CT               ML Engineer   \n",
       "2       2023               MI              CT               ML Engineer   \n",
       "3       2023               SE              FT            Data Scientist   \n",
       "4       2023               SE              FT            Data Scientist   \n",
       "\n",
       "   salary salary_currency  salary_in_usd employee_residence  remote_ratio  \\\n",
       "0   80000             EUR          85847                 ES           100   \n",
       "1   30000             USD          30000                 US           100   \n",
       "2   25500             USD          25500                 US           100   \n",
       "3  175000             USD         175000                 CA           100   \n",
       "4  120000             USD         120000                 CA           100   \n",
       "\n",
       "  company_location company_size  \n",
       "0               ES            L  \n",
       "1               US            S  \n",
       "2               US            S  \n",
       "3               CA            M  \n",
       "4               CA            M  "
      ]
     },
     "execution_count": 2,
     "metadata": {},
     "output_type": "execute_result"
    }
   ],
   "source": [
    "salaries_df = pd.read_csv('../datasets/ds_salaries.csv')\n",
    "salaries_df.head()"
   ]
  },
  {
   "cell_type": "markdown",
   "id": "0ce67489",
   "metadata": {},
   "source": [
    "👉 Tính số dòng và số cột:"
   ]
  },
  {
   "cell_type": "code",
   "execution_count": 3,
   "id": "d955e589",
   "metadata": {},
   "outputs": [
    {
     "name": "stdout",
     "output_type": "stream",
     "text": [
      "Number of rows:  3755\n",
      "Number of columns:  11\n"
     ]
    }
   ],
   "source": [
    "shape = salaries_df.shape\n",
    "print('Number of rows: ', shape[0])\n",
    "print('Number of columns: ', shape[1])"
   ]
  },
  {
   "cell_type": "markdown",
>>>>>>> 482a5db0fa2ed17b78920653b660e0699ce19af5
   "id": "177be2e7",
   "metadata": {},
   "source": [
    "### <span style='color:#2B9C15'>1. Mỗi dòng có ý nghĩa gì? Có vấn đề các dòng có ý nghĩa khác nhau không?</span>"
   ]
  },
  {
   "cell_type": "markdown",
   "id": "e31d6ae3",
   "metadata": {},
   "source": [
    "- Mỗi dòng trong bộ dữ liệu đại diện cho một việc làm thuộc về nhóm ngành Data science và những thông tin liên quan đến công việc đó thông qua từng cột dữ liệu. Ý nghĩa về các cột dữ liệu sẽ được giải thích rõ hơn ở phần 2.\n",
    "- Tất cả các dòng đều có ý nghĩa giống nhau."
   ]
  },
  {
   "cell_type": "markdown",
   "id": "b439d0f7",
   "metadata": {},
   "source": [
    "### <span style='color:#2B9C15'>2. Mỗi cột có ý nghĩa gì?</span>"
   ]
  },
  {
   "cell_type": "markdown",
   "id": "f9384629",
   "metadata": {},
   "source": []
  },
  {
   "cell_type": "markdown",
   "id": "3a71c6e6",
   "metadata": {},
   "source": [
    "### <span style='color:#2B9C15'>3. Mỗi cột hiện đang có kiểu dữ liệu gì? Có cột nào có kiểu dữ liệu chưa phù hợp để có thể xử lý tiếp hay không?</span>"
   ]
  },
  {
   "attachments": {},
<<<<<<< HEAD
=======
   "cell_type": "markdown",
   "id": "92044735",
   "metadata": {},
   "source": [
    "👉 Ta sử dụng phương thức `dtypes` trên dataframe `salarie_df` để xem kiểu dữ liệu của mỗi cột:"
   ]
  },
  {
   "cell_type": "code",
   "execution_count": 5,
   "id": "05ae7c7d",
   "metadata": {},
   "outputs": [
    {
     "data": {
      "text/plain": [
       "work_year              int64\n",
       "experience_level      object\n",
       "employment_type       object\n",
       "job_title             object\n",
       "salary                 int64\n",
       "salary_currency       object\n",
       "salary_in_usd          int64\n",
       "employee_residence    object\n",
       "remote_ratio           int64\n",
       "company_location      object\n",
       "company_size          object\n",
       "dtype: object"
      ]
     },
     "execution_count": 5,
     "metadata": {},
     "output_type": "execute_result"
    }
   ],
   "source": [
    "col_dtype = salaries_df.dtypes\n",
    "col_dtype"
   ]
  },
  {
   "attachments": {},
>>>>>>> 919ba5262f20d8b7fdbe058e8946b8e7c556035e
   "cell_type": "markdown",
   "id": "a87a4fe1",
   "metadata": {},
   "source": [
<<<<<<< HEAD
    "👉 Ta sử dụng phương thức `dtypes` trên dataframe `salarie_df` để xem kiểu dữ liệu của mỗi cột:"
   ]
  },
  {
   "cell_type": "code",
   "execution_count": 4,
   "id": "1876ba48",
   "metadata": {},
   "outputs": [
    {
     "data": {
      "text/plain": [
       "work_year              int64\n",
       "experience_level      object\n",
       "employment_type       object\n",
       "job_title             object\n",
       "salary                 int64\n",
       "salary_currency       object\n",
       "salary_in_usd          int64\n",
       "employee_residence    object\n",
       "remote_ratio           int64\n",
       "company_location      object\n",
       "company_size          object\n",
       "dtype: object"
      ]
     },
     "execution_count": 4,
     "metadata": {},
     "output_type": "execute_result"
    }
   ],
   "source": [
    "col_dtype = salaries_df.dtypes\n",
    "col_dtype"
   ]
  },
  {
   "attachments": {},
   "cell_type": "markdown",
   "id": "3ab04831",
   "metadata": {},
   "source": [
    "💡 Nhận xét: Dựa vào kết quả trên ta thấy rằng:\n",
    "\n",
    "- Các cột `experience_level` (mức độ kinh nghiệm), `employment_type` (loại hình việc làm), `job_title` (chức vụ), `salary_currency` (loại tiền tệ), `employee_residence` (quốc gia cư trú), `company_location` (quốc gia của văn phòng đang làm việc), `company_size` (kích thước nhân viên công ty) có kiểu dữ liệu là `object`.\n",
    "- Các cột `work_year` (năm được trả lương), `salary` (lương, đơn vị USD), `salary_in_usd` (lương khi chuyển sang loại USD), `remote_ratio` (Tỷ lệ tổng thể công việc được thực hiện từ xa, đơn vị %) có kiểu dữ liệu là `int`.\n",
=======
    "**💡 Nhận xét:** Dựa vào kết quả trên ta thấy rằng:\n",
    "- Các cột `experience_level` (mức độ kinh nghiệm), `employment_type` (loại hình việc làm), `job_title` (chức vụ), `salary_currency` (loại tiền tệ), `employee_residence` (quốc gia cư trú), `company_location` (quốc gia của văn phòng đang làm việc), `company_size` (kích thước nhân viên công ty) có kiểu dữ liệu là `object`\n",
    "- Các cột `work_year` (năm được trả lương), `salary` (lương, đơn vị USD), `salary_in_usd` (lương khi chuyển sang loại USD), `remote_ratio` (Tỷ lệ tổng thể công việc được thực hiện từ xa, đơn vị %) có kiểu dữ liệu là `int` </br>\n",
>>>>>>> 919ba5262f20d8b7fdbe058e8946b8e7c556035e
    "=> Nhìn chung, các trường dữ liệu đã có kiểu dữ liệu phù hợp với ý nghĩa của cột đó."
   ]
  },
  {
   "cell_type": "markdown",
   "id": "9d150be0",
   "metadata": {},
   "source": [
    "### <span style='color:#2B9C15'>4. Với mỗi cột, các giá trị (dạng số, dạng phân loại) được phân bố như thế nào?</span>"
   ]
  },
  {
   "cell_type": "markdown",
   "id": "d88b1177",
   "metadata": {},
   "source": [
    "👉 Số giá trị null (giá trị thiếu) trong từng cột của DataFrame `salaries_df`:"
   ]
  },
  {
   "cell_type": "code",
   "execution_count": 5,
   "id": "21230924",
   "metadata": {},
   "outputs": [
    {
     "data": {
      "text/plain": [
       "work_year             0\n",
       "experience_level      0\n",
       "employment_type       0\n",
       "job_title             0\n",
       "salary                0\n",
       "salary_currency       0\n",
       "salary_in_usd         0\n",
       "employee_residence    0\n",
       "remote_ratio          0\n",
       "company_location      0\n",
       "company_size          0\n",
       "dtype: int64"
      ]
     },
     "execution_count": 5,
     "metadata": {},
     "output_type": "execute_result"
    }
   ],
   "source": [
    "salaries_df.isna().sum()"
   ]
  },
  {
   "cell_type": "markdown",
   "id": "dc5dd110",
   "metadata": {},
   "source": [
    "**💡 Nhận xét:** Dựa vào kết quả trên ta thấy rằng:\n",
    "- Các cột `work_year`, `salary`, `salary_in_usd`,  `remote_ratio` là dạng số và không tồn tại giá trị thiếu.\n",
    "- Các cột `experience_level`, `employment_type`, `job_title`, `salary_currency`, `employee_residence`, `company_location`, `company_size` là bảy cột dữ liệu dạng phân loại, các giá trị trong cột thường không có thứ tự hay mức độ, và được biểu diễn bằng chuỗi ký tự, không tồn tại giá trị thiếu."
   ]
  },
  {
   "cell_type": "markdown",
   "id": "cb4aa007",
   "metadata": {},
   "source": [
    "👉 Xem xét sự phân bố giá trị của các cột dữ liệu dạng số:"
   ]
  },
  {
   "cell_type": "code",
   "execution_count": 6,
   "id": "b6fed344",
   "metadata": {},
   "outputs": [
    {
     "data": {
      "text/html": [
       "<div>\n",
       "<style scoped>\n",
       "    .dataframe tbody tr th:only-of-type {\n",
       "        vertical-align: middle;\n",
       "    }\n",
       "\n",
       "    .dataframe tbody tr th {\n",
       "        vertical-align: top;\n",
       "    }\n",
       "\n",
       "    .dataframe thead th {\n",
       "        text-align: right;\n",
       "    }\n",
       "</style>\n",
       "<table border=\"1\" class=\"dataframe\">\n",
       "  <thead>\n",
       "    <tr style=\"text-align: right;\">\n",
       "      <th></th>\n",
       "      <th>work_year</th>\n",
       "      <th>salary</th>\n",
       "      <th>salary_in_usd</th>\n",
       "      <th>remote_ratio</th>\n",
       "    </tr>\n",
       "  </thead>\n",
       "  <tbody>\n",
       "    <tr>\n",
       "      <th>count</th>\n",
       "      <td>3755.000000</td>\n",
       "      <td>3.755000e+03</td>\n",
       "      <td>3755.000000</td>\n",
       "      <td>3755.000000</td>\n",
       "    </tr>\n",
       "    <tr>\n",
       "      <th>mean</th>\n",
       "      <td>2022.373635</td>\n",
       "      <td>1.906956e+05</td>\n",
       "      <td>137570.389880</td>\n",
       "      <td>46.271638</td>\n",
       "    </tr>\n",
       "    <tr>\n",
       "      <th>std</th>\n",
       "      <td>0.691448</td>\n",
       "      <td>6.716765e+05</td>\n",
       "      <td>63055.625278</td>\n",
       "      <td>48.589050</td>\n",
       "    </tr>\n",
       "    <tr>\n",
       "      <th>min</th>\n",
       "      <td>2020.000000</td>\n",
       "      <td>6.000000e+03</td>\n",
       "      <td>5132.000000</td>\n",
       "      <td>0.000000</td>\n",
       "    </tr>\n",
       "    <tr>\n",
       "      <th>25%</th>\n",
       "      <td>2022.000000</td>\n",
       "      <td>1.000000e+05</td>\n",
       "      <td>95000.000000</td>\n",
       "      <td>0.000000</td>\n",
       "    </tr>\n",
       "    <tr>\n",
       "      <th>50%</th>\n",
       "      <td>2022.000000</td>\n",
       "      <td>1.380000e+05</td>\n",
       "      <td>135000.000000</td>\n",
       "      <td>0.000000</td>\n",
       "    </tr>\n",
       "    <tr>\n",
       "      <th>75%</th>\n",
       "      <td>2023.000000</td>\n",
       "      <td>1.800000e+05</td>\n",
       "      <td>175000.000000</td>\n",
       "      <td>100.000000</td>\n",
       "    </tr>\n",
       "    <tr>\n",
       "      <th>max</th>\n",
       "      <td>2023.000000</td>\n",
       "      <td>3.040000e+07</td>\n",
       "      <td>450000.000000</td>\n",
       "      <td>100.000000</td>\n",
       "    </tr>\n",
       "  </tbody>\n",
       "</table>\n",
       "</div>"
      ],
      "text/plain": [
       "         work_year        salary  salary_in_usd  remote_ratio\n",
       "count  3755.000000  3.755000e+03    3755.000000   3755.000000\n",
       "mean   2022.373635  1.906956e+05  137570.389880     46.271638\n",
       "std       0.691448  6.716765e+05   63055.625278     48.589050\n",
       "min    2020.000000  6.000000e+03    5132.000000      0.000000\n",
       "25%    2022.000000  1.000000e+05   95000.000000      0.000000\n",
       "50%    2022.000000  1.380000e+05  135000.000000      0.000000\n",
       "75%    2023.000000  1.800000e+05  175000.000000    100.000000\n",
       "max    2023.000000  3.040000e+07  450000.000000    100.000000"
      ]
     },
     "execution_count": 6,
     "metadata": {},
     "output_type": "execute_result"
    }
   ],
   "source": [
    "numeric = {\n",
    "    'work_year': salaries_df['work_year'], \n",
    "    'salary': salaries_df['salary'], \n",
    "    'salary_in_usd': salaries_df['salary_in_usd'],\n",
    "    'remote_ratio': salaries_df['remote_ratio']\n",
    "}\n",
    "\n",
    "df = pd.DataFrame(numeric)\n",
    "cols = ['work_year', 'salary', 'salary_in_usd', 'remote_ratio']\n",
    "df[cols].describe()"
   ]
  },
  {
   "cell_type": "code",
   "execution_count": 7,
   "id": "b30c75eb",
   "metadata": {},
   "outputs": [
    {
     "data": {
      "image/png": "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",
      "text/plain": [
       "<Figure size 1500x1500 with 4 Axes>"
      ]
     },
     "metadata": {},
     "output_type": "display_data"
    }
   ],
   "source": [
    "# Biểu đồ thể hiện sự phân bố của các giá trị dạng số\n",
    "salaries_df.hist(bins = 50, figsize = (15,15))\n",
    "plt.show()"
   ]
  },
  {
   "cell_type": "markdown",
   "id": "f5d01eec",
   "metadata": {},
   "source": [
    "👉 Xem xét sự phân bố giá trị của các cột dữ liệu dạng phân loại:"
   ]
  },
  {
   "cell_type": "code",
   "execution_count": 14,
   "id": "3d29d2b9",
   "metadata": {},
   "outputs": [
    {
     "data": {
      "text/html": [
       "<div>\n",
       "<style scoped>\n",
       "    .dataframe tbody tr th:only-of-type {\n",
       "        vertical-align: middle;\n",
       "    }\n",
       "\n",
       "    .dataframe tbody tr th {\n",
       "        vertical-align: top;\n",
       "    }\n",
       "\n",
       "    .dataframe thead th {\n",
       "        text-align: right;\n",
       "    }\n",
       "</style>\n",
       "<table border=\"1\" class=\"dataframe\">\n",
       "  <thead>\n",
       "    <tr style=\"text-align: right;\">\n",
       "      <th></th>\n",
       "      <th>experience_level</th>\n",
       "      <th>employment_type</th>\n",
       "      <th>job_title</th>\n",
       "      <th>salary_currency</th>\n",
       "      <th>employee_residence</th>\n",
       "      <th>company_location</th>\n",
       "      <th>company_size</th>\n",
       "    </tr>\n",
       "  </thead>\n",
       "  <tbody>\n",
       "    <tr>\n",
       "      <th>count</th>\n",
       "      <td>2584</td>\n",
       "      <td>2584</td>\n",
       "      <td>2584</td>\n",
       "      <td>2584</td>\n",
       "      <td>2584</td>\n",
       "      <td>2584</td>\n",
       "      <td>2584</td>\n",
       "    </tr>\n",
       "    <tr>\n",
       "      <th>unique</th>\n",
       "      <td>4</td>\n",
       "      <td>4</td>\n",
       "      <td>93</td>\n",
       "      <td>20</td>\n",
       "      <td>78</td>\n",
       "      <td>72</td>\n",
       "      <td>3</td>\n",
       "    </tr>\n",
       "    <tr>\n",
       "      <th>top</th>\n",
       "      <td>SE</td>\n",
       "      <td>FT</td>\n",
       "      <td>Data Engineer</td>\n",
       "      <td>USD</td>\n",
       "      <td>US</td>\n",
       "      <td>US</td>\n",
       "      <td>M</td>\n",
       "    </tr>\n",
       "    <tr>\n",
       "      <th>freq</th>\n",
       "      <td>1554</td>\n",
       "      <td>2547</td>\n",
       "      <td>598</td>\n",
       "      <td>2107</td>\n",
       "      <td>1893</td>\n",
       "      <td>1929</td>\n",
       "      <td>2028</td>\n",
       "    </tr>\n",
       "  </tbody>\n",
       "</table>\n",
       "</div>"
      ],
      "text/plain": [
       "       experience_level employment_type      job_title salary_currency  \\\n",
       "count              2584            2584           2584            2584   \n",
       "unique                4               4             93              20   \n",
       "top                  SE              FT  Data Engineer             USD   \n",
       "freq               1554            2547            598            2107   \n",
       "\n",
       "       employee_residence company_location company_size  \n",
       "count                2584             2584         2584  \n",
       "unique                 78               72            3  \n",
       "top                    US               US            M  \n",
       "freq                 1893             1929         2028  "
      ]
     },
     "execution_count": 14,
     "metadata": {},
     "output_type": "execute_result"
    }
   ],
   "source": [
    "category = {\n",
    "    'experience_level': salaries_df['experience_level'], \n",
    "    'employment_type': salaries_df['employment_type'],\n",
    "    'job_title': salaries_df['job_title'],\n",
    "    'salary_currency': salaries_df['salary_currency'],\n",
    "    'employee_residence': salaries_df['employee_residence'],\n",
    "    'company_location': salaries_df['company_location'],\n",
    "    'company_size': salaries_df['company_size']\n",
    "}\n",
    "\n",
    "df2 = pd.DataFrame(category)\n",
    "cols2 = ['experience_level', 'employment_type', 'job_title', 'salary_currency', 'employee_residence', 'company_location', 'company_size',]\n",
    "df2[cols2].describe()"
   ]
  },
  {
   "cell_type": "markdown",
   "id": "4609004c",
   "metadata": {},
   "source": [
    "**💡 Nhận xét:** Dựa vào kết quả trên ta thấy rằng:\n",
    "- Có 93 công việc khác nhau cùng với các công ty có trụ sở đặt tại 72 quốc gia khác nhau cùng với nguồn nhân lực đến từ 78 quốc gia góp mặt trong dữ liệu thống kê này.\n",
    "- `Data Engineer` là công việc cần nhiều nguồn nhân công nhất.\n",
    "- `USD` là đơn vị tiền tệ tính lương phổ biến nhất.\n",
    "- `US` là quốc gia có nhiều nhân lực và công ty liên quan đến lĩnh vực Data Science nhất.\n",
    "- Các công ty về lĩnh vực Data Science có quy mô đa số là Medium và trình độ yêu cầu người làm việc chủ yếu là Senior."
   ]
  },
  {
   "cell_type": "markdown",
   "id": "a40124b8",
   "metadata": {},
   "source": [
    "### <span style='color:#2B9C15'>5. Có cần phải tiền xử lý dữ liệu hay không và nếu có thì nhóm sinh viên cần phải xử lý như thế nào?</span>"
   ]
  },
  {
   "attachments": {},
   "cell_type": "markdown",
   "id": "c209ebb6",
   "metadata": {},
   "source": [
    "*💡 Nhận xét:* Phải thực hiện tiền xử lý bởi vì đây là một bước quan trọng trong quá trình khám phá và phân tích dữ liệu. Thực hiện tiền xử lý sẽ giúp chuẩn hoá dữ liệu để khi mô hình hoá dữ liệu sẽ không bị lỗi, tăng độ chính xác cho mô hình. Và đối với tập dữ liệu Spotify Top 10000 Streamed Songs có nhiều lý do để tiền xử lý dữ liệu:\n",
    "- Kiểm tra và đánh giá tính đúng đắn của dữ liệu: Trước khi bắt đầu phân tích dữ liệu, chúng ta cần kiểm tra và xác định tính đúng đắn của dữ liệu. Trong trường hợp này, nếu tập dữ liệu chứa các bản ghi bị trùng lặp, thông tin bị thiếu hoặc sai sót, các giá trị bất thường hoặc ngoại lệ, thì đây sẽ không phải là dữ liệu đáng tin cậy để sử dụng cho mục đích phân tích.\n",
    "- Chuẩn hóa dữ liệu: Dữ liệu có thể được chuẩn hóa hoặc điều chỉnh để giải quyết các vấn đề liên quan đến đơn vị đo lường hoặc đơn vị tài sản cụ thể. Ví dụ: các đơn vị đo lường như USD và EUR có thể được chuyển đổi sang đơn vị đo lường chung như USD để dễ dàng so sánh.\n",
    "- Loại bỏ dữ liệu không cần thiết: Tập dữ liệu có thể chứa các trường dữ liệu không cần thiết hoặc không ảnh hưởng đến kết quả phân tích. Chúng ta có thể loại bỏ các trường này để giảm kích thước của tập dữ liệu.\n",
    "- Xử lý dữ liệu thiếu: Nếu tập dữ liệu bị thiếu thông tin hoặc giá trị bị thiếu, chúng ta cần xử lý để đảm bảo đầy đủ thông tin phân tích.\n",
    "- Xử lý dữ liệu ngoại lệ: Nếu tập dữ liệu chứa các giá trị ngoại lệ hoặc không phù hợp, chúng ta cần xử lý để loại bỏ các giá trị này hoặc thay thế bằng các giá trị thích hợp."
   ]
  },
  {
   "attachments": {},
   "cell_type": "markdown",
   "id": "e1840bbc",
   "metadata": {},
   "source": [
    "👉 Kiểm tra các dòng có bị trùng dữ liệu hay không?"
   ]
  },
  {
   "cell_type": "code",
   "execution_count": 9,
   "id": "4c3e3290",
   "metadata": {},
   "outputs": [
    {
     "data": {
      "text/plain": [
       "True"
      ]
     },
     "execution_count": 9,
     "metadata": {},
     "output_type": "execute_result"
    }
   ],
   "source": [
    "have_duplicates = salaries_df.duplicated().any()\n",
    "have_duplicates"
   ]
  },
  {
   "attachments": {},
   "cell_type": "markdown",
   "id": "6bdcbde5",
   "metadata": {},
   "source": [
    "**💡 Nhận xét:** tồn tại các dòng trùng dữ liệu trong dataset"
   ]
  },
  {
   "attachments": {},
   "cell_type": "markdown",
   "id": "a30d804a",
   "metadata": {},
   "source": [
    "👉 Tiền xử lý dữ liệu: thực hiện xóa các dòng trùng dữ liệu"
   ]
  },
  {
   "cell_type": "code",
   "execution_count": 10,
   "id": "edd1a56c",
   "metadata": {},
   "outputs": [
    {
     "data": {
      "text/html": [
       "<div>\n",
       "<style scoped>\n",
       "    .dataframe tbody tr th:only-of-type {\n",
       "        vertical-align: middle;\n",
       "    }\n",
       "\n",
       "    .dataframe tbody tr th {\n",
       "        vertical-align: top;\n",
       "    }\n",
       "\n",
       "    .dataframe thead th {\n",
       "        text-align: right;\n",
       "    }\n",
       "</style>\n",
       "<table border=\"1\" class=\"dataframe\">\n",
       "  <thead>\n",
       "    <tr style=\"text-align: right;\">\n",
       "      <th></th>\n",
       "      <th>index</th>\n",
       "      <th>work_year</th>\n",
       "      <th>experience_level</th>\n",
       "      <th>employment_type</th>\n",
       "      <th>job_title</th>\n",
       "      <th>salary</th>\n",
       "      <th>salary_currency</th>\n",
       "      <th>salary_in_usd</th>\n",
       "      <th>employee_residence</th>\n",
       "      <th>remote_ratio</th>\n",
       "      <th>company_location</th>\n",
       "      <th>company_size</th>\n",
       "    </tr>\n",
       "  </thead>\n",
       "  <tbody>\n",
       "    <tr>\n",
       "      <th>0</th>\n",
       "      <td>0</td>\n",
       "      <td>2023</td>\n",
       "      <td>SE</td>\n",
       "      <td>FT</td>\n",
       "      <td>Principal Data Scientist</td>\n",
       "      <td>80000</td>\n",
       "      <td>EUR</td>\n",
       "      <td>85847</td>\n",
       "      <td>ES</td>\n",
       "      <td>100</td>\n",
       "      <td>ES</td>\n",
       "      <td>L</td>\n",
       "    </tr>\n",
       "    <tr>\n",
       "      <th>1</th>\n",
       "      <td>1</td>\n",
       "      <td>2023</td>\n",
       "      <td>MI</td>\n",
       "      <td>CT</td>\n",
       "      <td>ML Engineer</td>\n",
       "      <td>30000</td>\n",
       "      <td>USD</td>\n",
       "      <td>30000</td>\n",
       "      <td>US</td>\n",
       "      <td>100</td>\n",
       "      <td>US</td>\n",
       "      <td>S</td>\n",
       "    </tr>\n",
       "    <tr>\n",
       "      <th>2</th>\n",
       "      <td>2</td>\n",
       "      <td>2023</td>\n",
       "      <td>MI</td>\n",
       "      <td>CT</td>\n",
       "      <td>ML Engineer</td>\n",
       "      <td>25500</td>\n",
       "      <td>USD</td>\n",
       "      <td>25500</td>\n",
       "      <td>US</td>\n",
       "      <td>100</td>\n",
       "      <td>US</td>\n",
       "      <td>S</td>\n",
       "    </tr>\n",
       "    <tr>\n",
       "      <th>3</th>\n",
       "      <td>3</td>\n",
       "      <td>2023</td>\n",
       "      <td>SE</td>\n",
       "      <td>FT</td>\n",
       "      <td>Data Scientist</td>\n",
       "      <td>175000</td>\n",
       "      <td>USD</td>\n",
       "      <td>175000</td>\n",
       "      <td>CA</td>\n",
       "      <td>100</td>\n",
       "      <td>CA</td>\n",
       "      <td>M</td>\n",
       "    </tr>\n",
       "    <tr>\n",
       "      <th>4</th>\n",
       "      <td>4</td>\n",
       "      <td>2023</td>\n",
       "      <td>SE</td>\n",
       "      <td>FT</td>\n",
       "      <td>Data Scientist</td>\n",
       "      <td>120000</td>\n",
       "      <td>USD</td>\n",
       "      <td>120000</td>\n",
       "      <td>CA</td>\n",
       "      <td>100</td>\n",
       "      <td>CA</td>\n",
       "      <td>M</td>\n",
       "    </tr>\n",
       "    <tr>\n",
       "      <th>...</th>\n",
       "      <td>...</td>\n",
       "      <td>...</td>\n",
       "      <td>...</td>\n",
       "      <td>...</td>\n",
       "      <td>...</td>\n",
       "      <td>...</td>\n",
       "      <td>...</td>\n",
       "      <td>...</td>\n",
       "      <td>...</td>\n",
       "      <td>...</td>\n",
       "      <td>...</td>\n",
       "      <td>...</td>\n",
       "    </tr>\n",
       "    <tr>\n",
       "      <th>2579</th>\n",
       "      <td>3750</td>\n",
       "      <td>2020</td>\n",
       "      <td>SE</td>\n",
       "      <td>FT</td>\n",
       "      <td>Data Scientist</td>\n",
       "      <td>412000</td>\n",
       "      <td>USD</td>\n",
       "      <td>412000</td>\n",
       "      <td>US</td>\n",
       "      <td>100</td>\n",
       "      <td>US</td>\n",
       "      <td>L</td>\n",
       "    </tr>\n",
       "    <tr>\n",
       "      <th>2580</th>\n",
       "      <td>3751</td>\n",
       "      <td>2021</td>\n",
       "      <td>MI</td>\n",
       "      <td>FT</td>\n",
       "      <td>Principal Data Scientist</td>\n",
       "      <td>151000</td>\n",
       "      <td>USD</td>\n",
       "      <td>151000</td>\n",
       "      <td>US</td>\n",
       "      <td>100</td>\n",
       "      <td>US</td>\n",
       "      <td>L</td>\n",
       "    </tr>\n",
       "    <tr>\n",
       "      <th>2581</th>\n",
       "      <td>3752</td>\n",
       "      <td>2020</td>\n",
       "      <td>EN</td>\n",
       "      <td>FT</td>\n",
       "      <td>Data Scientist</td>\n",
       "      <td>105000</td>\n",
       "      <td>USD</td>\n",
       "      <td>105000</td>\n",
       "      <td>US</td>\n",
       "      <td>100</td>\n",
       "      <td>US</td>\n",
       "      <td>S</td>\n",
       "    </tr>\n",
       "    <tr>\n",
       "      <th>2582</th>\n",
       "      <td>3753</td>\n",
       "      <td>2020</td>\n",
       "      <td>EN</td>\n",
       "      <td>CT</td>\n",
       "      <td>Business Data Analyst</td>\n",
       "      <td>100000</td>\n",
       "      <td>USD</td>\n",
       "      <td>100000</td>\n",
       "      <td>US</td>\n",
       "      <td>100</td>\n",
       "      <td>US</td>\n",
       "      <td>L</td>\n",
       "    </tr>\n",
       "    <tr>\n",
       "      <th>2583</th>\n",
       "      <td>3754</td>\n",
       "      <td>2021</td>\n",
       "      <td>SE</td>\n",
       "      <td>FT</td>\n",
       "      <td>Data Science Manager</td>\n",
       "      <td>7000000</td>\n",
       "      <td>INR</td>\n",
       "      <td>94665</td>\n",
       "      <td>IN</td>\n",
       "      <td>50</td>\n",
       "      <td>IN</td>\n",
       "      <td>L</td>\n",
       "    </tr>\n",
       "  </tbody>\n",
       "</table>\n",
       "<p>2584 rows × 12 columns</p>\n",
       "</div>"
      ],
      "text/plain": [
       "      index  work_year experience_level employment_type  \\\n",
       "0         0       2023               SE              FT   \n",
       "1         1       2023               MI              CT   \n",
       "2         2       2023               MI              CT   \n",
       "3         3       2023               SE              FT   \n",
       "4         4       2023               SE              FT   \n",
       "...     ...        ...              ...             ...   \n",
       "2579   3750       2020               SE              FT   \n",
       "2580   3751       2021               MI              FT   \n",
       "2581   3752       2020               EN              FT   \n",
       "2582   3753       2020               EN              CT   \n",
       "2583   3754       2021               SE              FT   \n",
       "\n",
       "                     job_title   salary salary_currency  salary_in_usd  \\\n",
       "0     Principal Data Scientist    80000             EUR          85847   \n",
       "1                  ML Engineer    30000             USD          30000   \n",
       "2                  ML Engineer    25500             USD          25500   \n",
       "3               Data Scientist   175000             USD         175000   \n",
       "4               Data Scientist   120000             USD         120000   \n",
       "...                        ...      ...             ...            ...   \n",
       "2579            Data Scientist   412000             USD         412000   \n",
       "2580  Principal Data Scientist   151000             USD         151000   \n",
       "2581            Data Scientist   105000             USD         105000   \n",
       "2582     Business Data Analyst   100000             USD         100000   \n",
       "2583      Data Science Manager  7000000             INR          94665   \n",
       "\n",
       "     employee_residence  remote_ratio company_location company_size  \n",
       "0                    ES           100               ES            L  \n",
       "1                    US           100               US            S  \n",
       "2                    US           100               US            S  \n",
       "3                    CA           100               CA            M  \n",
       "4                    CA           100               CA            M  \n",
       "...                 ...           ...              ...          ...  \n",
       "2579                 US           100               US            L  \n",
       "2580                 US           100               US            L  \n",
       "2581                 US           100               US            S  \n",
       "2582                 US           100               US            L  \n",
       "2583                 IN            50               IN            L  \n",
       "\n",
       "[2584 rows x 12 columns]"
      ]
     },
     "execution_count": 10,
     "metadata": {},
     "output_type": "execute_result"
    }
   ],
   "source": [
    "salaries_df.drop_duplicates(inplace=True)\n",
    "salaries_df.reset_index()"
   ]
  },
  {
   "attachments": {},
   "cell_type": "markdown",
   "id": "57d08884",
   "metadata": {},
   "source": [
    "👉 Kiểm tra có ô nào bị thiếu dữ liệu hay không?"
   ]
  },
  {
   "cell_type": "code",
   "execution_count": 11,
   "id": "204ff6d4",
   "metadata": {},
   "outputs": [
    {
     "data": {
      "text/plain": [
       "work_year             0\n",
       "experience_level      0\n",
       "employment_type       0\n",
       "job_title             0\n",
       "salary                0\n",
       "salary_currency       0\n",
       "salary_in_usd         0\n",
       "employee_residence    0\n",
       "remote_ratio          0\n",
       "company_location      0\n",
       "company_size          0\n",
       "dtype: int64"
      ]
     },
     "execution_count": 11,
     "metadata": {},
     "output_type": "execute_result"
    }
   ],
   "source": [
    "salaries_df.isnull().sum()"
   ]
  },
  {
   "attachments": {},
   "cell_type": "markdown",
   "id": "46fe9e8b",
   "metadata": {},
   "source": [
    "**💡 Nhận xét:** không tồn tại dữ liệu thiếu trong dataset"
   ]
  },
  {
   "cell_type": "code",
   "execution_count": 12,
   "id": "84664dc5",
   "metadata": {},
   "outputs": [],
   "source": [
    "#Xuất file dữ liệu mới sau khi tiền xử lý\n",
    "salaries_df.to_csv('../datasets/new_dataset.csv', index=False)"
   ]
  },
  {
   "cell_type": "code",
   "execution_count": 13,
   "id": "85399fde",
   "metadata": {},
   "outputs": [
    {
     "data": {
      "text/html": [
       "<div>\n",
       "<style scoped>\n",
       "    .dataframe tbody tr th:only-of-type {\n",
       "        vertical-align: middle;\n",
       "    }\n",
       "\n",
       "    .dataframe tbody tr th {\n",
       "        vertical-align: top;\n",
       "    }\n",
       "\n",
       "    .dataframe thead th {\n",
       "        text-align: right;\n",
       "    }\n",
       "</style>\n",
       "<table border=\"1\" class=\"dataframe\">\n",
       "  <thead>\n",
       "    <tr style=\"text-align: right;\">\n",
       "      <th></th>\n",
       "      <th>work_year</th>\n",
       "      <th>experience_level</th>\n",
       "      <th>employment_type</th>\n",
       "      <th>job_title</th>\n",
       "      <th>salary</th>\n",
       "      <th>salary_currency</th>\n",
       "      <th>salary_in_usd</th>\n",
       "      <th>employee_residence</th>\n",
       "      <th>remote_ratio</th>\n",
       "      <th>company_location</th>\n",
       "      <th>company_size</th>\n",
       "    </tr>\n",
       "  </thead>\n",
       "  <tbody>\n",
       "    <tr>\n",
       "      <th>0</th>\n",
       "      <td>2023</td>\n",
       "      <td>SE</td>\n",
       "      <td>FT</td>\n",
       "      <td>Principal Data Scientist</td>\n",
       "      <td>80000</td>\n",
       "      <td>EUR</td>\n",
       "      <td>85847</td>\n",
       "      <td>ES</td>\n",
       "      <td>100</td>\n",
       "      <td>ES</td>\n",
       "      <td>L</td>\n",
       "    </tr>\n",
       "    <tr>\n",
       "      <th>1</th>\n",
       "      <td>2023</td>\n",
       "      <td>MI</td>\n",
       "      <td>CT</td>\n",
       "      <td>ML Engineer</td>\n",
       "      <td>30000</td>\n",
       "      <td>USD</td>\n",
       "      <td>30000</td>\n",
       "      <td>US</td>\n",
       "      <td>100</td>\n",
       "      <td>US</td>\n",
       "      <td>S</td>\n",
       "    </tr>\n",
       "    <tr>\n",
       "      <th>2</th>\n",
       "      <td>2023</td>\n",
       "      <td>MI</td>\n",
       "      <td>CT</td>\n",
       "      <td>ML Engineer</td>\n",
       "      <td>25500</td>\n",
       "      <td>USD</td>\n",
       "      <td>25500</td>\n",
       "      <td>US</td>\n",
       "      <td>100</td>\n",
       "      <td>US</td>\n",
       "      <td>S</td>\n",
       "    </tr>\n",
       "    <tr>\n",
       "      <th>3</th>\n",
       "      <td>2023</td>\n",
       "      <td>SE</td>\n",
       "      <td>FT</td>\n",
       "      <td>Data Scientist</td>\n",
       "      <td>175000</td>\n",
       "      <td>USD</td>\n",
       "      <td>175000</td>\n",
       "      <td>CA</td>\n",
       "      <td>100</td>\n",
       "      <td>CA</td>\n",
       "      <td>M</td>\n",
       "    </tr>\n",
       "    <tr>\n",
       "      <th>4</th>\n",
       "      <td>2023</td>\n",
       "      <td>SE</td>\n",
       "      <td>FT</td>\n",
       "      <td>Data Scientist</td>\n",
       "      <td>120000</td>\n",
       "      <td>USD</td>\n",
       "      <td>120000</td>\n",
       "      <td>CA</td>\n",
       "      <td>100</td>\n",
       "      <td>CA</td>\n",
       "      <td>M</td>\n",
       "    </tr>\n",
       "    <tr>\n",
       "      <th>...</th>\n",
       "      <td>...</td>\n",
       "      <td>...</td>\n",
       "      <td>...</td>\n",
       "      <td>...</td>\n",
       "      <td>...</td>\n",
       "      <td>...</td>\n",
       "      <td>...</td>\n",
       "      <td>...</td>\n",
       "      <td>...</td>\n",
       "      <td>...</td>\n",
       "      <td>...</td>\n",
       "    </tr>\n",
       "    <tr>\n",
       "      <th>2579</th>\n",
       "      <td>2020</td>\n",
       "      <td>SE</td>\n",
       "      <td>FT</td>\n",
       "      <td>Data Scientist</td>\n",
       "      <td>412000</td>\n",
       "      <td>USD</td>\n",
       "      <td>412000</td>\n",
       "      <td>US</td>\n",
       "      <td>100</td>\n",
       "      <td>US</td>\n",
       "      <td>L</td>\n",
       "    </tr>\n",
       "    <tr>\n",
       "      <th>2580</th>\n",
       "      <td>2021</td>\n",
       "      <td>MI</td>\n",
       "      <td>FT</td>\n",
       "      <td>Principal Data Scientist</td>\n",
       "      <td>151000</td>\n",
       "      <td>USD</td>\n",
       "      <td>151000</td>\n",
       "      <td>US</td>\n",
       "      <td>100</td>\n",
       "      <td>US</td>\n",
       "      <td>L</td>\n",
       "    </tr>\n",
       "    <tr>\n",
       "      <th>2581</th>\n",
       "      <td>2020</td>\n",
       "      <td>EN</td>\n",
       "      <td>FT</td>\n",
       "      <td>Data Scientist</td>\n",
       "      <td>105000</td>\n",
       "      <td>USD</td>\n",
       "      <td>105000</td>\n",
       "      <td>US</td>\n",
       "      <td>100</td>\n",
       "      <td>US</td>\n",
       "      <td>S</td>\n",
       "    </tr>\n",
       "    <tr>\n",
       "      <th>2582</th>\n",
       "      <td>2020</td>\n",
       "      <td>EN</td>\n",
       "      <td>CT</td>\n",
       "      <td>Business Data Analyst</td>\n",
       "      <td>100000</td>\n",
       "      <td>USD</td>\n",
       "      <td>100000</td>\n",
       "      <td>US</td>\n",
       "      <td>100</td>\n",
       "      <td>US</td>\n",
       "      <td>L</td>\n",
       "    </tr>\n",
       "    <tr>\n",
       "      <th>2583</th>\n",
       "      <td>2021</td>\n",
       "      <td>SE</td>\n",
       "      <td>FT</td>\n",
       "      <td>Data Science Manager</td>\n",
       "      <td>7000000</td>\n",
       "      <td>INR</td>\n",
       "      <td>94665</td>\n",
       "      <td>IN</td>\n",
       "      <td>50</td>\n",
       "      <td>IN</td>\n",
       "      <td>L</td>\n",
       "    </tr>\n",
       "  </tbody>\n",
       "</table>\n",
       "<p>2584 rows × 11 columns</p>\n",
       "</div>"
      ],
      "text/plain": [
       "      work_year experience_level employment_type                 job_title  \\\n",
       "0          2023               SE              FT  Principal Data Scientist   \n",
       "1          2023               MI              CT               ML Engineer   \n",
       "2          2023               MI              CT               ML Engineer   \n",
       "3          2023               SE              FT            Data Scientist   \n",
       "4          2023               SE              FT            Data Scientist   \n",
       "...         ...              ...             ...                       ...   \n",
       "2579       2020               SE              FT            Data Scientist   \n",
       "2580       2021               MI              FT  Principal Data Scientist   \n",
       "2581       2020               EN              FT            Data Scientist   \n",
       "2582       2020               EN              CT     Business Data Analyst   \n",
       "2583       2021               SE              FT      Data Science Manager   \n",
       "\n",
       "       salary salary_currency  salary_in_usd employee_residence  remote_ratio  \\\n",
       "0       80000             EUR          85847                 ES           100   \n",
       "1       30000             USD          30000                 US           100   \n",
       "2       25500             USD          25500                 US           100   \n",
       "3      175000             USD         175000                 CA           100   \n",
       "4      120000             USD         120000                 CA           100   \n",
       "...       ...             ...            ...                ...           ...   \n",
       "2579   412000             USD         412000                 US           100   \n",
       "2580   151000             USD         151000                 US           100   \n",
       "2581   105000             USD         105000                 US           100   \n",
       "2582   100000             USD         100000                 US           100   \n",
       "2583  7000000             INR          94665                 IN            50   \n",
       "\n",
       "     company_location company_size  \n",
       "0                  ES            L  \n",
       "1                  US            S  \n",
       "2                  US            S  \n",
       "3                  CA            M  \n",
       "4                  CA            M  \n",
       "...               ...          ...  \n",
       "2579               US            L  \n",
       "2580               US            L  \n",
       "2581               US            S  \n",
       "2582               US            L  \n",
       "2583               IN            L  \n",
       "\n",
       "[2584 rows x 11 columns]"
      ]
     },
     "execution_count": 13,
     "metadata": {},
     "output_type": "execute_result"
    }
   ],
   "source": [
    "#Đọc lại file dữ liệu mới \n",
    "salaries_df = pd.read_csv('../datasets/new_dataset.csv')\n",
    "salaries_df"
   ]
  },
  {
   "cell_type": "markdown",
   "id": "c0f88c1b",
   "metadata": {},
   "source": [
    "<div style=\"text-align: left; background-color:#ACA224; font-family:Arial; color:white; padding: 12px; line-height:1.25;border-radius:1px; margin-bottom: 0em; text-align: center; font-size: 30px;border-style: solid;border-color: black;\">C. KHÁM PHÁ MỐI QUAN HỆ TRONG DỮ LIỆU</div>"
   ]
  },
  {
   "cell_type": "markdown",
   "id": "c7d8eeb7",
   "metadata": {},
   "source": []
  }
 ],
 "metadata": {
  "kernelspec": {
   "display_name": "Python 3 (ipykernel)",
   "language": "python",
   "name": "python3"
  },
  "language_info": {
   "codemirror_mode": {
    "name": "ipython",
    "version": 3
   },
   "file_extension": ".py",
   "mimetype": "text/x-python",
   "name": "python",
   "nbconvert_exporter": "python",
   "pygments_lexer": "ipython3",
   "version": "3.10.1"
  },
  "vscode": {
   "interpreter": {
    "hash": "76d7c06053c3456e5600312cec90888656fc0ed30c03d8425b9dac6e4fc8e014"
   }
  }
 },
 "nbformat": 4,
 "nbformat_minor": 5
}
